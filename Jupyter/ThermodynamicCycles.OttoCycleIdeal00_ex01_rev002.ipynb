{
 "cells": [
  {
   "cell_type": "markdown",
   "id": "declared-lightweight",
   "metadata": {},
   "source": [
    "<h1>Examples.ThermodynamicCycles.OttoCycleIdeal00_ex01</h1>"
   ]
  },
  {
   "cell_type": "markdown",
   "id": "alternate-bedroom",
   "metadata": {},
   "source": [
    "<h1>Load modules </h1>"
   ]
  },
  {
   "cell_type": "code",
   "execution_count": 16,
   "id": "welsh-wrestling",
   "metadata": {},
   "outputs": [
    {
     "name": "stdout",
     "output_type": "stream",
     "text": [
      "------------------------------\n"
     ]
    }
   ],
   "source": [
    "#****************************************\n",
    "#    User must NOT edit code below \n",
    "#****************************************\n",
    "import OMPython\n",
    "from OMPython import OMCSessionZMQ\n",
    "from OMPython import ModelicaSystem\n",
    "\n",
    "import os\n",
    "from os.path import expanduser\n",
    "\n",
    "import pandas as pd\n",
    "import matplotlib as mpl\n",
    "import matplotlib.pyplot as plt\n",
    "import sys\n",
    "import pathlib\n",
    "\n",
    "from IPython.display import display, HTML\n",
    "print('------------------------------')"
   ]
  },
  {
   "cell_type": "markdown",
   "id": "employed-insulation",
   "metadata": {},
   "source": [
    "<h1>Use settings</h1>\n",
    "<p>Edit the strings below </p>"
   ]
  },
  {
   "cell_type": "code",
   "execution_count": 17,
   "id": "fancy-diary",
   "metadata": {},
   "outputs": [
    {
     "name": "stdout",
     "output_type": "stream",
     "text": [
      "------------------------------\n"
     ]
    }
   ],
   "source": [
    "dirWorkRelToHome='/OMPythonWork'\n",
    "\n",
    "#dirModelRelToLibDir='/Examples/ThermodynamicCycles'\n",
    "fullpathModel='PropulsionSystem.Examples.ThermodynamicCycles.OttoCycleIdeal00_ex01'\n",
    "nmModel='OttoCycleIdeal00_ex01'\n",
    "stopTime=70.0\n",
    "outputFormat='csv'\n",
    "print('------------------------------')"
   ]
  },
  {
   "cell_type": "markdown",
   "id": "prescription-actress",
   "metadata": {},
   "source": [
    "<h1>Setup </h1>"
   ]
  },
  {
   "cell_type": "code",
   "execution_count": 26,
   "id": "recreational-heath",
   "metadata": {},
   "outputs": [
    {
     "name": "stdout",
     "output_type": "stream",
     "text": [
      "------------------------------\n",
      "\n",
      "########## check user settings and related info. ##########\n",
      "-. This OS is: Windows (nt)\n",
      "-. Home directory of current environment is: C:\\Users\\grabacr\n",
      "-. Temporary Working directory is: C:\\Users\\grabacr/OMPythonWork\n",
      "\n",
      "-. Directory of This notebook: C:\\Users\\grabacr\\Dropbox\\01-sharedspace\\modelica-shared\\CustomLib\\PropulsionSystem\\Jupyter\n",
      "-. Directory of library is: C:/Users/grabacr/Dropbox/01-sharedspace/modelica-shared/CustomLib/PropulsionSystem\n",
      "-. Full path of Model to be ran is: PropulsionSystem.Examples.ThermodynamicCycles.OttoCycleIdeal00_ex01\n",
      "-. Full path of Model file to be ran is: C:/Users/grabacr/Dropbox/01-sharedspace/modelica-shared/CustomLib/PropulsionSystem/Examples/ThermodynamicCycles/OttoCycleIdeal00_ex01.mo\n",
      "\n",
      "------------------------------\n",
      "move to directory of notebook\n",
      "currend dir, back to: C:\\Users\\grabacr\\Dropbox\\01-sharedspace\\modelica-shared\\CustomLib\\PropulsionSystem\\Jupyter\n",
      "------------------------------\n"
     ]
    }
   ],
   "source": [
    "#****************************************\n",
    "#    User must NOT edit code below \n",
    "#****************************************\n",
    "#*** get directory of this notebook\n",
    "sys.path.append('..')\n",
    "pathNotebook= os.getcwd()\n",
    "print('------------------------------'); print('')\n",
    "\n",
    "#*** distinguish OS\n",
    "if(os.name=='nt'):\n",
    "    dirHome=expanduser(\"~\")\n",
    "    typeOS='Windows (nt)'\n",
    "elif(os.name=='posix'):\n",
    "    dirHome=os.environ['HOME']\n",
    "    typeOS= 'Linux or Mac (posix)'\n",
    "##### end if #####\n",
    "\n",
    "#*** direcotory of temporary work\n",
    "dirWork= dirHome + dirWorkRelToHome\n",
    "\n",
    "#*** get library directory\n",
    "sys.path.append('..')\n",
    "dirLib= pathlib.Path('../')\n",
    "dirLib_upper1= pathlib.Path('../../')\n",
    "\n",
    "dirLib= dirLib.resolve()\n",
    "dirLib= str(dirLib)\n",
    "dirLib= dirLib.replace('\\\\', '/')\n",
    "\n",
    "dirLib_upper1= dirLib_upper1.resolve()\n",
    "\n",
    "fullpathModelFile= str(dirLib_upper1)+'\\\\'+fullpathModel.replace('.','\\\\') +'.mo'\n",
    "fullpathModelFile= fullpathModelFile.replace('\\\\', '/')\n",
    "\n",
    "\n",
    "print(\"########## check user settings and related info. ##########\")\n",
    "print('-. This OS is: ' + typeOS)\n",
    "print('-. Home directory of current environment is: ' + dirHome)\n",
    "print(\"-. Temporary Working directory is: \"+str(dirWork))\n",
    "print('')\n",
    "print('-. Directory of This notebook: '+ pathNotebook)\n",
    "print('-. Directory of library is: ' + str(dirLib))\n",
    "print(\"-. Full path of Model to be ran is: \" + fullpathModel)\n",
    "print(\"-. Full path of Model file to be ran is: \" + fullpathModelFile)\n",
    "\n",
    "#***** move back to notebook directory *****\n",
    "print(''); print('------------------------------')\n",
    "os.chdir(pathNotebook)\n",
    "print(\"move to directory of notebook\")\n",
    "print(\"currend dir, back to: \"+os.getcwd())\n",
    "print('------------------------------')"
   ]
  },
  {
   "cell_type": "code",
   "execution_count": 27,
   "id": "greatest-welsh",
   "metadata": {},
   "outputs": [
    {
     "name": "stderr",
     "output_type": "stream",
     "text": [
      "2021-01-31 16:06:31,523 - OMPython - INFO - OMC Server is up and running at file:///C:/Users/grabacr/AppData/Local/Temp/openmodelica.port.98317f4d562f4bb99c67f7244b0a1eee pid=21524\n"
     ]
    },
    {
     "name": "stdout",
     "output_type": "stream",
     "text": [
      "currend dir: C:\\Users\\grabacr\\OMPythonWork\n",
      "------------------------------\n",
      "\n",
      "send: cd(\"C:\\Users\\grabacr/OMPythonWork\")\n",
      "OMShell: C:/Users/grabacr/OMPythonWork\n",
      "OMShell: True\n",
      "send: loadFile(\"C:/Users/grabacr/Dropbox/01-sharedspace/modelica-shared/CustomLib/PropulsionSystem/package.mo\")\n",
      "OMShell: True\n",
      "\n",
      "------------------------------\n",
      "move to directory of notebook\n",
      "currend dir, back to: C:\\Users\\grabacr\\Dropbox\\01-sharedspace\\modelica-shared\\CustomLib\\PropulsionSystem\\Jupyter\n",
      "------------------------------\n"
     ]
    }
   ],
   "source": [
    "#****************************************\n",
    "#    User must NOT edit code below \n",
    "#****************************************\n",
    "omc= OMCSessionZMQ()\n",
    "\n",
    "#***** move to temporary working directory *****\n",
    "os.chdir(dirWork)\n",
    "os.getcwd()\n",
    "print(\"currend dir: \"+os.getcwd())\n",
    "print('------------------------------'); print('')\n",
    "\n",
    "#-- move OMShell to working directory\n",
    "strcmd= 'cd(\"' + dirWork + '\")'\n",
    "print('send: '+strcmd)\n",
    "msgOMShell=omc.sendExpression(strcmd)\n",
    "print(\"OMShell: \"+ str(msgOMShell))\n",
    "\n",
    "#-- load Modelica Standard Library\n",
    "msgOMShell=omc.sendExpression(\"loadModel(Modelica)\")\n",
    "print(\"OMShell: \"+ str(msgOMShell))\n",
    "\n",
    "#-- load PropulsionSystem library\n",
    "strcmd='loadFile(\"' + str(dirLib) +'/package.mo' + '\")'\n",
    "print('send: '+strcmd)\n",
    "msgOMShell=omc.sendExpression(strcmd)\n",
    "print(\"OMShell: \"+ str(msgOMShell))\n",
    "\n",
    "#***** move back to notebook directory *****\n",
    "print(''); print('------------------------------')\n",
    "os.chdir(pathNotebook)\n",
    "print(\"move to directory of notebook\")\n",
    "print(\"currend dir, back to: \"+os.getcwd())\n",
    "print('------------------------------')"
   ]
  },
  {
   "cell_type": "markdown",
   "id": "least-charge",
   "metadata": {},
   "source": [
    "<h1>Building Model</h1>"
   ]
  },
  {
   "cell_type": "code",
   "execution_count": 28,
   "id": "employed-accounting",
   "metadata": {},
   "outputs": [
    {
     "name": "stdout",
     "output_type": "stream",
     "text": [
      "currend dir: C:\\Users\\grabacr\\OMPythonWork\n",
      "------------------------------\n",
      "\n",
      "send: cd(\"C:\\Users\\grabacr/OMPythonWork\")\n",
      "OMShell: C:/Users/grabacr/OMPythonWork\n",
      "...building the model, wait...\n",
      "send: buildModel(PropulsionSystem.Examples.ThermodynamicCycles.OttoCycleIdeal00_ex01, outputFormat=\"csv\")\n",
      "OMShell: ('C:/Users/grabacr/OMPythonWork/PropulsionSystem.Examples.ThermodynamicCycles.OttoCycleIdeal00_ex01', 'PropulsionSystem.Examples.ThermodynamicCycles.OttoCycleIdeal00_ex01_init.xml')\n",
      "...model build finished.\n",
      "\n",
      "------------------------------\n",
      "move to directory of notebook\n",
      "currend dir, back to: C:\\Users\\grabacr\\Dropbox\\01-sharedspace\\modelica-shared\\CustomLib\\PropulsionSystem\\Jupyter\n",
      "------------------------------\n"
     ]
    }
   ],
   "source": [
    "#***** move to temporary working directory *****\n",
    "os.chdir(dirWork)\n",
    "os.getcwd()\n",
    "print(\"currend dir: \"+os.getcwd())\n",
    "print('------------------------------'); print('')\n",
    "\n",
    "#-- move OMShell to working directory\n",
    "strcmd= 'cd(\"' + dirWork + '\")'\n",
    "print('send: '+strcmd)\n",
    "msgOMShell=omc.sendExpression(strcmd)\n",
    "print(\"OMShell: \"+ str(msgOMShell))\n",
    "\n",
    "#-- build the model\n",
    "print('...building the model, wait...')\n",
    "strcmd= 'buildModel(' + fullpathModel + ', ' + 'outputFormat=\"csv\"' + ')'\n",
    "print('send: '+strcmd)\n",
    "msgOMShell=omc.sendExpression(strcmd)\n",
    "print(\"OMShell: \"+ str(msgOMShell))\n",
    "print('...model build finished.')\n",
    "\n",
    "#***** move back to notebook directory *****\n",
    "print(''); print('------------------------------')\n",
    "os.chdir(pathNotebook)\n",
    "print(\"move to directory of notebook\")\n",
    "print(\"currend dir, back to: \"+os.getcwd())\n",
    "print('------------------------------')"
   ]
  },
  {
   "cell_type": "markdown",
   "id": "theoretical-french",
   "metadata": {},
   "source": [
    "<h1>Run simulation, default setting</h1>"
   ]
  },
  {
   "cell_type": "code",
   "execution_count": 25,
   "id": "instrumental-playback",
   "metadata": {},
   "outputs": [
    {
     "name": "stdout",
     "output_type": "stream",
     "text": [
      "currend dir: C:\\Users\\grabacr\\OMPythonWork\n",
      "------------------------------\n",
      "\n",
      "...running simulation, wait...\n",
      "send: system(\"PropulsionSystem.Examples.ThermodynamicCycles.OttoCycleIdeal00_ex01.exe -r=PropulsionSystem.Examples.ThermodynamicCycles.OttoCycleIdeal00_ex01_res.csv\")\n",
      "OMShell: 0\n",
      "...simulation run finished.\n",
      "\n",
      "------------------------------\n",
      "move to directory of notebook\n",
      "currend dir, back to: C:\\Users\\grabacr\\Dropbox\\01-sharedspace\\modelica-shared\\CustomLib\\PropulsionSystem\\Jupyter\n",
      "------------------------------\n"
     ]
    }
   ],
   "source": [
    "#****************************************\n",
    "#    User must NOT edit code below \n",
    "#****************************************\n",
    "#***** move to temporary working directory *****\n",
    "os.chdir(dirWork)\n",
    "os.getcwd()\n",
    "print(\"currend dir: \"+os.getcwd())\n",
    "print('------------------------------'); print('')\n",
    "\n",
    "#-- run simulation with default parameter setting\n",
    "print(\"...running simulation, wait...\")\n",
    "strcmd= 'system(\"' + fullpathModel + '.exe' + ' -r=' + fullpathModel + '_res.csv' +'\")'\n",
    "print('send: '+strcmd)\n",
    "msgOMShell=omc.sendExpression(strcmd)\n",
    "print(\"OMShell: \"+ str(msgOMShell))\n",
    "print('...simulation run finished.')\n",
    "\n",
    "#***** move back to notebook directory *****\n",
    "print(''); print('------------------------------')\n",
    "os.chdir(pathNotebook)\n",
    "print(\"move to directory of notebook\")\n",
    "print(\"currend dir, back to: \"+os.getcwd())\n",
    "print('------------------------------')"
   ]
  },
  {
   "cell_type": "markdown",
   "id": "binary-passage",
   "metadata": {},
   "source": [
    "<h1>Post Process</h1>"
   ]
  },
  {
   "cell_type": "code",
   "execution_count": null,
   "id": "documented-switzerland",
   "metadata": {},
   "outputs": [],
   "source": []
  },
  {
   "cell_type": "code",
   "execution_count": null,
   "id": "traditional-subdivision",
   "metadata": {},
   "outputs": [],
   "source": [
    "df=[]\n",
    "i_df= -1\n",
    "\n",
    "#***** move to temporary working directory *****\n",
    "os.chdir(dirWork)\n",
    "os.getcwd()\n",
    "print(\"currend dir: \"+os.getcwd())\n",
    "print('------------------------------'); print('')\n",
    "\n",
    "nmcsv= fullpathModel + '_res.csv'\n",
    "print(\"data read: \"+ os.getcwd()+\"/\"+nmcsv)\n",
    "df.append(pd.read_csv(nmcsv))\n",
    "i_df= i_df+1\n",
    "\n",
    "#***** move back to notebook directory *****\n",
    "print(''); print('------------------------------')\n",
    "os.chdir(pathNotebook)\n",
    "print(\"move to directory of notebook\")\n",
    "print(\"currend dir, back to: \"+os.getcwd())\n",
    "\n",
    "df[i_df]"
   ]
  },
  {
   "cell_type": "code",
   "execution_count": null,
   "id": "breeding-conjunction",
   "metadata": {},
   "outputs": [],
   "source": [
    "fig=[]\n",
    "i_fig=-1\n",
    "print('------------------------------')"
   ]
  },
  {
   "cell_type": "markdown",
   "id": "collaborative-nicaragua",
   "metadata": {},
   "source": [
    "<h2>Inputs</h2>"
   ]
  },
  {
   "cell_type": "code",
   "execution_count": null,
   "id": "competitive-eclipse",
   "metadata": {},
   "outputs": [],
   "source": [
    "varName=\"ramp_p_fluidState_1.y\"\n",
    "ylabel='Pressrue [Pa]'\n",
    "\n",
    "time= df[i_df].loc[:,'time']\n",
    "var= df[i_df].loc[:,varName]\n",
    "fig.append(plt.figure(figsize=(15,8)))\n",
    "plt.xlabel('time [s]')\n",
    "plt.ylabel(ylabel)\n",
    "plt.plot(time, var)\n",
    "plt.title(varName)\n",
    "plt.grid()\n",
    "print('------------------------------')"
   ]
  },
  {
   "cell_type": "code",
   "execution_count": null,
   "id": "comic-henry",
   "metadata": {},
   "outputs": [],
   "source": [
    "varName=\"ramp_T_fluidState_1.y\"\n",
    "ylabel='Temperature [K]'\n",
    "\n",
    "time= df[i_df].loc[:,'time']\n",
    "var= df[i_df].loc[:,varName]\n",
    "fig.append(plt.figure(figsize=(15,8)))\n",
    "plt.xlabel('time [s]')\n",
    "plt.ylabel(ylabel)\n",
    "plt.plot(time, var)\n",
    "plt.title(varName)\n",
    "plt.grid()\n",
    "print('------------------------------')"
   ]
  },
  {
   "cell_type": "code",
   "execution_count": null,
   "id": "special-stanford",
   "metadata": {},
   "outputs": [],
   "source": [
    "varName=\"ramp_fracFuel.y\"\n",
    "ylabel='fraction [nond]'\n",
    "\n",
    "time= df[i_df].loc[:,'time']\n",
    "var= df[i_df].loc[:,varName]\n",
    "fig.append(plt.figure(figsize=(15,8)))\n",
    "plt.xlabel('time [s]')\n",
    "plt.ylabel(ylabel)\n",
    "plt.plot(time, var)\n",
    "plt.title(varName)\n",
    "plt.grid()\n",
    "print('------------------------------')"
   ]
  },
  {
   "cell_type": "markdown",
   "id": "numeric-contrary",
   "metadata": {},
   "source": [
    "<h2>Outputs</h2>"
   ]
  },
  {
   "cell_type": "code",
   "execution_count": null,
   "id": "spiritual-public",
   "metadata": {},
   "outputs": [],
   "source": [
    "varName=\"OttoCycle.WoutCycle\"\n",
    "ylabel='Work [J]'\n",
    "\n",
    "time= df[i_df].loc[:,'time']\n",
    "var= df[i_df].loc[:,varName]\n",
    "fig.append(plt.figure(figsize=(15,8)))\n",
    "plt.xlabel('time [s]')\n",
    "plt.ylabel(ylabel)\n",
    "plt.plot(time, var, color='red')\n",
    "plt.title(varName)\n",
    "plt.grid()\n",
    "print('------------------------------')"
   ]
  },
  {
   "cell_type": "code",
   "execution_count": null,
   "id": "preceding-sally",
   "metadata": {},
   "outputs": [],
   "source": [
    "ylabel='Temperature [K]'\n",
    "\n",
    "fig.append(plt.figure(figsize=(15,8)))\n",
    "time= df[i_df].loc[:,'time']\n",
    "\n",
    "varName=\"OttoCycle.fluidState_1.T\"\n",
    "var= df[i_df].loc[:,varName]\n",
    "plt.plot(time, var, label=varName)\n",
    "\n",
    "varName=\"OttoCycle.fluidState_2.T\"\n",
    "var= df[i_df].loc[:,varName]\n",
    "plt.plot(time, var, label=varName)\n",
    "\n",
    "varName=\"OttoCycle.fluidState_3.T\"\n",
    "var= df[i_df].loc[:,varName]\n",
    "plt.plot(time, var, label=varName)\n",
    "\n",
    "varName=\"OttoCycle.fluidState_4.T\"\n",
    "var= df[i_df].loc[:,varName]\n",
    "plt.plot(time, var, label=varName)\n",
    "\n",
    "plt.xlabel('time [s]')\n",
    "plt.ylabel(ylabel)\n",
    "plt.title('OttoCycle.fluidState.T')\n",
    "plt.legend(loc='upper right', fontsize=12)\n",
    "plt.grid()\n",
    "print('------------------------------')"
   ]
  },
  {
   "cell_type": "code",
   "execution_count": null,
   "id": "external-arbitration",
   "metadata": {},
   "outputs": [],
   "source": [
    "ylabel='Pressure [kPa]'\n",
    "\n",
    "fig.append(plt.figure(figsize=(15,8)))\n",
    "time= df[i_df].loc[:,'time']\n",
    "\n",
    "varName=\"OttoCycle.fluidState_1.p\"\n",
    "var= df[i_df].loc[:,varName]/1000\n",
    "plt.plot(time, var, label=varName)\n",
    "\n",
    "varName=\"OttoCycle.fluidState_2.p\"\n",
    "var= df[i_df].loc[:,varName]/1000\n",
    "plt.plot(time, var, label=varName)\n",
    "\n",
    "varName=\"OttoCycle.fluidState_3.p\"\n",
    "var= df[i_df].loc[:,varName]/1000\n",
    "plt.plot(time, var, label=varName)\n",
    "\n",
    "varName=\"OttoCycle.fluidState_4.p\"\n",
    "var= df[i_df].loc[:,varName]/1000\n",
    "plt.plot(time, var, label=varName)\n",
    "\n",
    "plt.xlabel('time [s]')\n",
    "plt.ylabel(ylabel)\n",
    "plt.title('OttoCycle.fluidState.p')\n",
    "plt.legend(loc='upper right', fontsize=12)\n",
    "plt.grid()\n",
    "print('------------------------------')"
   ]
  },
  {
   "cell_type": "code",
   "execution_count": null,
   "id": "designing-forum",
   "metadata": {},
   "outputs": [],
   "source": [
    "varName=\"OttoCycle.flag_W34_gt_Q23\"\n",
    "ylabel='boolean'\n",
    "\n",
    "time= df[i_df].loc[:,'time']\n",
    "var= df[i_df].loc[:,varName]\n",
    "fig.append(plt.figure(figsize=(15,8)))\n",
    "plt.xlabel('time [s]')\n",
    "plt.ylabel(ylabel)\n",
    "plt.plot(time, var, color='red')\n",
    "plt.title(varName)\n",
    "plt.grid()\n",
    "print('------------------------------')"
   ]
  },
  {
   "cell_type": "code",
   "execution_count": null,
   "id": "stable-offset",
   "metadata": {},
   "outputs": [],
   "source": [
    "varName=\"OttoCycle.effThermal\"\n",
    "ylabel='efficiency [nond]'\n",
    "\n",
    "time= df[i_df].loc[:,'time']\n",
    "var= df[i_df].loc[:,varName]\n",
    "fig.append(plt.figure(figsize=(15,8)))\n",
    "plt.xlabel('time [s]')\n",
    "plt.ylabel(ylabel)\n",
    "plt.ylim([0.5,0.6])\n",
    "plt.plot(time, var, color='red')\n",
    "plt.title(varName)\n",
    "plt.grid()\n",
    "print('------------------------------')"
   ]
  },
  {
   "cell_type": "markdown",
   "id": "better-navigation",
   "metadata": {},
   "source": [
    "<h2>Extract variables at specified time</h2>"
   ]
  },
  {
   "cell_type": "code",
   "execution_count": null,
   "id": "automatic-clause",
   "metadata": {},
   "outputs": [],
   "source": [
    "tgtTime=5\n",
    "widthTime=1\n",
    "\n",
    "#******************************\n",
    "rowTgt=0\n",
    "for i in range(len(df[i_df])):\n",
    "    if((tgtTime-widthTime <= df[i_df].at[i,'time']) and (df[i_df].at[i,'time'] <= tgtTime) ):\n",
    "        rowTgt=i\n",
    "        timeExtrd=df[i_df].at[i,'time']\n",
    "    ##### end if #####\n",
    "##### end for #####\n",
    "\n",
    "print(\"row extracted = \"+str(rowTgt))\n",
    "print(\"time of extracted = \"+str(timeExtrd))\n",
    "\n",
    "arr_h=[]\n",
    "arr_s=[]\n",
    "arr_p=[]\n",
    "arr_v=[]\n",
    "arr_T=[]\n",
    "arr_u=[]\n",
    "for i in range(1,5+1):\n",
    "    val= df[i_df].at[rowTgt, ('OttoCycle.arr_h['+str(i)+']')]\n",
    "    arr_h.append(val)\n",
    "    val= df[i_df].at[rowTgt, ('OttoCycle.arr_s['+str(i)+']')]\n",
    "    arr_s.append(val)\n",
    "    val= df[i_df].at[rowTgt, ('OttoCycle.arr_p['+str(i)+']')]\n",
    "    arr_p.append(val)\n",
    "    val= df[i_df].at[rowTgt, ('OttoCycle.arr_v['+str(i)+']')]\n",
    "    arr_v.append(val)\n",
    "    val= df[i_df].at[rowTgt, ('OttoCycle.arr_T['+str(i)+']')]\n",
    "    arr_T.append(val)\n",
    "    val= df[i_df].at[rowTgt, ('OttoCycle.arr_u['+str(i)+']')]\n",
    "    arr_u.append(val)\n",
    "##### end for #####\n",
    "\n",
    "nPts= df[i_df].at[rowTgt, ('OttoCycle.curve_hs[1].nPts')]\n",
    "s_curve_hs=[[]]*4; h_curve_hs=[[]]*4\n",
    "v_curve_pv=[[]]*4; p_curve_pv=[[]]*4\n",
    "s_curve_Ts=[[]]*4; T_curve_Ts=[[]]*4\n",
    "s_curve_us=[[]]*4; u_curve_us=[[]]*4\n",
    "\n",
    "arrTemp_s_hs=[]; arrTemp_h_hs=[]\n",
    "arrTemp_s_Ts=[]; arrTemp_T_Ts=[]\n",
    "arrTemp_s_us=[]; arrTemp_u_us=[]\n",
    "arrTemp_v_pv=[]; arrTemp_p_pv=[]\n",
    "\n",
    "for j in range(1, 4+1):\n",
    "    for i in range(1, nPts+1):\n",
    "        val=df[i_df].at[rowTgt, ('OttoCycle.curve_hs['+str(j)+'].arr_s['+str(i)+']')]; arrTemp_s_hs.append(val)\n",
    "        val=df[i_df].at[rowTgt, ('OttoCycle.curve_hs['+str(j)+'].arr_h['+str(i)+']')]; arrTemp_h_hs.append(val)\n",
    "        val=df[i_df].at[rowTgt, ('OttoCycle.curve_Ts['+str(j)+'].arr_s['+str(i)+']')]; arrTemp_s_Ts.append(val)\n",
    "        val=df[i_df].at[rowTgt, ('OttoCycle.curve_Ts['+str(j)+'].arr_T['+str(i)+']')]; arrTemp_T_Ts.append(val)\n",
    "        val=df[i_df].at[rowTgt, ('OttoCycle.curve_us['+str(j)+'].arr_s['+str(i)+']')]; arrTemp_s_us.append(val)\n",
    "        val=df[i_df].at[rowTgt, ('OttoCycle.curve_us['+str(j)+'].arr_u['+str(i)+']')]; arrTemp_u_us.append(val)\n",
    "        val=df[i_df].at[rowTgt, ('OttoCycle.curve_pv['+str(j)+'].arr_v['+str(i)+']')]; arrTemp_v_pv.append(val)\n",
    "        val=df[i_df].at[rowTgt, ('OttoCycle.curve_pv['+str(j)+'].arr_p['+str(i)+']')]; arrTemp_p_pv.append(val)\n",
    "    ##### end for #####\n",
    "    s_curve_hs[j-1]=arrTemp_s_hs; arrTemp_s_hs=[]\n",
    "    h_curve_hs[j-1]=arrTemp_h_hs; arrTemp_h_hs=[]\n",
    "    s_curve_Ts[j-1]=arrTemp_s_Ts; arrTemp_s_Ts=[]\n",
    "    T_curve_Ts[j-1]=arrTemp_T_Ts; arrTemp_T_Ts=[]\n",
    "    s_curve_us[j-1]=arrTemp_s_us; arrTemp_s_us=[]\n",
    "    u_curve_us[j-1]=arrTemp_u_us; arrTemp_u_us=[]\n",
    "    v_curve_pv[j-1]=arrTemp_v_pv; arrTemp_v_pv=[]\n",
    "    p_curve_pv[j-1]=arrTemp_p_pv; arrTemp_p_pv=[]\n",
    "##### end for #####\n",
    "print('------------------------------')"
   ]
  },
  {
   "cell_type": "code",
   "execution_count": null,
   "id": "sapphire-craft",
   "metadata": {},
   "outputs": [],
   "source": [
    "fig.append(plt.figure(figsize=(10,10)))\n",
    "plt.scatter(x=arr_s, y=arr_h, color='red', s=120)\n",
    "\n",
    "for i in range(4):\n",
    "    plt.plot(s_curve_hs[i], h_curve_hs[i], linestyle='dashed')\n",
    "##### end for #####\n",
    "plt.grid()\n",
    "plt.title('h vs. s' + '; at time:' + str(tgtTime) + '[s]')\n",
    "plt.xlabel('spec. entropy [J/(kg*K)]')\n",
    "plt.ylabel('spec. enthalpy [J/kg]')\n",
    "for i in range(0, 4):\n",
    "    if((i==1-1)or(i==3-1)):\n",
    "        plt.annotate('', xy=[arr_s[i+1],arr_h[i+1]], xytext=[arr_s[i],arr_h[i]],\n",
    "                    arrowprops=dict(shrink=0, width=0.5, headwidth=8, headlength=14, connectionstyle='arc3',\n",
    "                                    facecolor='gray', edgecolor='gray', linestyle='dashed')\n",
    "                    )\n",
    "##### end for #####\n",
    "''''''\n",
    "print('------------------------------')"
   ]
  },
  {
   "cell_type": "code",
   "execution_count": null,
   "id": "featured-cotton",
   "metadata": {},
   "outputs": [],
   "source": [
    "fig.append(plt.figure(figsize=(10,10)))\n",
    "plt.scatter(x=arr_s, y=arr_u, color='red', s=120)\n",
    "\n",
    "for i in range(4):\n",
    "    plt.plot(s_curve_us[i], u_curve_us[i], linestyle='dashed')\n",
    "##### end for #####\n",
    "plt.grid()\n",
    "plt.title('u vs. s' + '; at time:' + str(tgtTime) + '[s]')\n",
    "plt.xlabel('spec. entropy [J/(kg*K)]')\n",
    "plt.ylabel('spec. internal energy [J/kg]')\n",
    "\n",
    "for i in range(0, 4):\n",
    "    if((i==1-1)or(i==3-1)):\n",
    "        root=[arr_s[i+1],arr_u[i+1]]\n",
    "        head=[arr_s[i],arr_u[i]]\n",
    "        plt.annotate('', xy=root, xytext=head,\n",
    "                    arrowprops=dict(shrink=0, width=0.5, headwidth=8, headlength=14, connectionstyle='arc3',\n",
    "                                    facecolor='gray', edgecolor='gray', linestyle='dashed')\n",
    "                    )\n",
    "##### end for #####\n",
    "''''''\n",
    "print('------------------------------')"
   ]
  },
  {
   "cell_type": "code",
   "execution_count": null,
   "id": "violent-maker",
   "metadata": {},
   "outputs": [],
   "source": [
    "fig.append(plt.figure(figsize=(10,10)))\n",
    "plt.scatter(x=arr_s, y=arr_T, color='red', s=100)\n",
    "for i in range(4):\n",
    "    plt.plot(s_curve_Ts[i], T_curve_Ts[i], linestyle='dashed')\n",
    "##### end for #####\n",
    "plt.grid()\n",
    "plt.title('T vs. s'+ '; at time:' + str(tgtTime) + '[s]')\n",
    "plt.xlabel('spec. entropy [J/(kg*K)]')\n",
    "plt.ylabel('Temperature [K]')\n",
    "\n",
    "for i in range(0, 4):\n",
    "    if((i==1-1)or(i==3-1)):\n",
    "        root=[arr_s[i+1],arr_T[i+1]]\n",
    "        head=[arr_s[i],arr_T[i]]\n",
    "        plt.annotate('', xy=root, xytext=head,\n",
    "                    arrowprops=dict(shrink=0, width=0.5, headwidth=8, headlength=12, connectionstyle='arc3',\n",
    "                                    facecolor='gray', edgecolor='gray', linestyle='dashed')\n",
    "                    )\n",
    "##### end for #####\n",
    "''''''\n",
    "print('------------------------------')"
   ]
  },
  {
   "cell_type": "code",
   "execution_count": null,
   "id": "atmospheric-integer",
   "metadata": {},
   "outputs": [],
   "source": [
    "fig.append(plt.figure(figsize=(10,10)))\n",
    "plt.scatter(x=arr_v, y=arr_p, color='red', s=100)\n",
    "for i in range(4):\n",
    "    if((i==1-1)or(i==3-1)):\n",
    "        plt.plot(v_curve_pv[i], p_curve_pv[i], linestyle='dashed')\n",
    "##### end for #####\n",
    "plt.grid()\n",
    "plt.title('p vs. v'+ '; at time:' + str(tgtTime) + '[s]')\n",
    "plt.xlabel('spec. volume [m3/kg]')\n",
    "plt.ylabel('pressure [Pa]')\n",
    "for i in range(0, 4):\n",
    "    if((i==2-1)or(i==4-1)):\n",
    "        root=[arr_v[i+1],arr_p[i+1]]\n",
    "        head=[arr_v[i],arr_p[i]]\n",
    "        plt.annotate('', xy=root, xytext=head,\n",
    "                    arrowprops=dict(shrink=0, width=0.5, headwidth=8, headlength=12, connectionstyle='arc3',\n",
    "                                    facecolor='gray', edgecolor='gray', linestyle='dashed')\n",
    "                    )\n",
    "##### end for #####\n",
    "''''''\n",
    "print('------------------------------')"
   ]
  },
  {
   "cell_type": "markdown",
   "id": "responsible-canvas",
   "metadata": {},
   "source": [
    "<h1>Process at the end of note</h1>"
   ]
  },
  {
   "cell_type": "code",
   "execution_count": null,
   "id": "threatened-spoke",
   "metadata": {},
   "outputs": [],
   "source": [
    "print(\"\")\n",
    "os.chdir(pathNotebook)\n",
    "print(\"move to directory of notebook\")\n",
    "print(\"currend dir, back to: \"+os.getcwd())\n",
    "print('------------------------------')"
   ]
  },
  {
   "cell_type": "code",
   "execution_count": null,
   "id": "vital-klein",
   "metadata": {},
   "outputs": [],
   "source": []
  }
 ],
 "metadata": {
  "kernelspec": {
   "display_name": "Python 3",
   "language": "python",
   "name": "python3"
  },
  "language_info": {
   "codemirror_mode": {
    "name": "ipython",
    "version": 3
   },
   "file_extension": ".py",
   "mimetype": "text/x-python",
   "name": "python",
   "nbconvert_exporter": "python",
   "pygments_lexer": "ipython3",
   "version": "3.9.1"
  }
 },
 "nbformat": 4,
 "nbformat_minor": 5
}
