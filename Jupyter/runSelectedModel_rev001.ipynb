{
 "cells": [
  {
   "cell_type": "markdown",
   "id": "pacific-david",
   "metadata": {},
   "source": [
    "<h1>run BouncingBall.mo</h1>"
   ]
  },
  {
   "cell_type": "markdown",
   "id": "racial-cincinnati",
   "metadata": {},
   "source": [
    "<h1>Load modules </h1>"
   ]
  },
  {
   "cell_type": "code",
   "execution_count": 1,
   "id": "scheduled-memphis",
   "metadata": {},
   "outputs": [
    {
     "name": "stdout",
     "output_type": "stream",
     "text": [
      "-----\n"
     ]
    }
   ],
   "source": [
    "#****************************************\n",
    "#    User must NOT edit code below \n",
    "#****************************************\n",
    "import OMPython\n",
    "from OMPython import OMCSessionZMQ\n",
    "\n",
    "import os\n",
    "from os.path import expanduser\n",
    "\n",
    "import pandas as pd\n",
    "import matplotlib as mpl\n",
    "import matplotlib.pyplot as plt\n",
    "import sys\n",
    "import pathlib\n",
    "\n",
    "from IPython.display import display, HTML\n",
    "print('-----')"
   ]
  },
  {
   "cell_type": "markdown",
   "id": "special-classification",
   "metadata": {},
   "source": [
    "<h1>Use settings</h1>\n",
    "<p>Edit the strings below </p>"
   ]
  },
  {
   "cell_type": "code",
   "execution_count": 2,
   "id": "center-secret",
   "metadata": {},
   "outputs": [
    {
     "name": "stdout",
     "output_type": "stream",
     "text": [
      "-----\n"
     ]
    }
   ],
   "source": [
    "dirWorkRelToHome='/OMPythonWork'\n",
    "\n",
    "#dirModelRelToLibDir='/Examples/ThermodynamicCycles'\n",
    "fullpathModel='PropulsionSystem.Examples.ThermodynamicCycles.OttoCycleIdeal00_ex01'\n",
    "nmModel='OttoCycleIdeal00_ex01'\n",
    "stopTime=70.0\n",
    "outputFormat='csv'\n",
    "print('-----')"
   ]
  },
  {
   "cell_type": "markdown",
   "id": "architectural-hearing",
   "metadata": {},
   "source": [
    "<h1>Setup </h1>"
   ]
  },
  {
   "cell_type": "code",
   "execution_count": 3,
   "id": "configured-dealer",
   "metadata": {},
   "outputs": [
    {
     "name": "stdout",
     "output_type": "stream",
     "text": [
      "########## check user settings and related info. ##########\n",
      "-. This OS is: Linux or Mac (posix)\n",
      "-. Home directory of current environment is: /home/ubuntu\n",
      "-. Temporary Working directory is: /home/ubuntu/OMPythonWork\n",
      "\n",
      "-. Directory of This notebook: /home/ubuntu/Dropbox/01-sharedspace/modelica-shared/CustomLib/PropulsionSystem/Jupyter\n",
      "-. Directory of library is: /home/ubuntu/Dropbox/01-sharedspace/modelica-shared/CustomLib/PropulsionSystem\n",
      "-. Full path of Model to be ran is: PropulsionSystem.Examples.ThermodynamicCycles.OttoCycleIdeal00_ex01\n"
     ]
    }
   ],
   "source": [
    "#****************************************\n",
    "#    User must NOT edit code below \n",
    "#****************************************\n",
    "#*** get directory of this notebook\n",
    "sys.path.append('..')\n",
    "pathNotebook= os.getcwd()\n",
    "\n",
    "#*** distinguish OS\n",
    "if(os.name=='nt'):\n",
    "    dirHome=expanduser(\"~\")\n",
    "    typeOS='Windows (nt)'\n",
    "elif(os.name=='posix'):\n",
    "    dirHome=os.environ['HOME']\n",
    "    typeOS= 'Linux or Mac (posix)'\n",
    "##### end if #####\n",
    "\n",
    "#*** direcotory of temporary work\n",
    "dirWork= dirHome + dirWorkRelToHome\n",
    "\n",
    "#*** get library directory\n",
    "sys.path.append('..')\n",
    "dirLib= pathlib.Path('../')\n",
    "dirLib= dirLib.resolve()\n",
    "\n",
    "#*** get direcotry of model to run\n",
    "#dirModel= str(dirLib) + dirModelRelToLibDir\n",
    "\n",
    "#fullpathModelFile= dirModel + '/' + nmModel + \".mo\"\n",
    "\n",
    "print(\"########## check user settings and related info. ##########\")\n",
    "print('-. This OS is: ' + typeOS)\n",
    "print('-. Home directory of current environment is: ' + dirHome)\n",
    "print(\"-. Temporary Working directory is: \"+str(dirWork))\n",
    "print('')\n",
    "print('-. Directory of This notebook: '+ pathNotebook)\n",
    "print('-. Directory of library is: ' + str(dirLib))\n",
    "#print(\"-. Directory of model to be run: \" + dirModel)\n",
    "print(\"-. Full path of Model to be ran is: \" + fullpathModel)"
   ]
  },
  {
   "cell_type": "code",
   "execution_count": 4,
   "id": "photographic-pioneer",
   "metadata": {},
   "outputs": [
    {
     "name": "stdout",
     "output_type": "stream",
     "text": [
      "send: loadFile(\"/home/ubuntu/Dropbox/01-sharedspace/modelica-shared/CustomLib/PropulsionSystem/package.mo\")\n",
      "send: cd(\"/home/ubuntu/OMPythonWork\")\n"
     ]
    },
    {
     "data": {
      "text/plain": [
       "'/home/ubuntu/OMPythonWork'"
      ]
     },
     "execution_count": 4,
     "metadata": {},
     "output_type": "execute_result"
    }
   ],
   "source": [
    "#****************************************\n",
    "#    User must NOT edit code below \n",
    "#****************************************\n",
    "omc= OMCSessionZMQ()\n",
    "\n",
    "# load Modelica Standard Library\n",
    "#strcmd=\"loadModel(Modelica,{3.2.2})\"\n",
    "#omc.sendExpression(strcmd)\n",
    "omc.sendExpression(\"loadModel(Modelica)\")\n",
    "\n",
    "strcmd='loadFile(\"' + str(dirLib) +'/package.mo' + '\")'\n",
    "print('send: '+strcmd)\n",
    "omc.sendExpression(strcmd)\n",
    "\n",
    "# move OMShell to working directory\n",
    "strcmd= 'cd(\"' + dirWork + '\")'\n",
    "print('send: '+strcmd)\n",
    "omc.sendExpression(strcmd)\n",
    "\n",
    "# load model\n",
    "#strcmd= 'loadFile(getInstallationDirectoryPath()+ ' + '\"'+ fullpathModel + '\")'\n",
    "#strcmd= 'loadFile(' + '\"'+ fullpathModel + '\")'\n",
    "#print('send: '+strcmd)\n",
    "#omc.sendExpression(strcmd)\n"
   ]
  },
  {
   "cell_type": "markdown",
   "id": "based-retro",
   "metadata": {},
   "source": [
    "<h1>Run simulation</h1>"
   ]
  },
  {
   "cell_type": "code",
   "execution_count": 5,
   "id": "miniature-cuisine",
   "metadata": {},
   "outputs": [
    {
     "name": "stdout",
     "output_type": "stream",
     "text": [
      "send: simulate(PropulsionSystem.Examples.ThermodynamicCycles.OttoCycleIdeal00_ex01, stopTime=70.0, outputFormat=\"csv\")\n",
      "...running simulation, wait...\n"
     ]
    },
    {
     "data": {
      "text/plain": [
       "{'resultFile': '',\n",
       " 'simulationOptions': \"startTime = 0.0, stopTime = 70.0, numberOfIntervals = 498, tolerance = 1e-06, method = 'dassl', fileNamePrefix = 'PropulsionSystem.Examples.ThermodynamicCycles.OttoCycleIdeal00_ex01', options = '', outputFormat = 'csv', variableFilter = '.*', cflags = '', simflags = '-lv=\\\\'LOG_STATS\\\\' -s=\\\\'dassl\\\\''\",\n",
       " 'messages': 'Failed to build model: PropulsionSystem.Examples.ThermodynamicCycles.OttoCycleIdeal00_ex01',\n",
       " 'timeFrontend': 0.7189030070000001,\n",
       " 'timeBackend': 0.0,\n",
       " 'timeSimCode': 0.0,\n",
       " 'timeTemplates': 0.0,\n",
       " 'timeCompile': 0.0,\n",
       " 'timeSimulation': 0.0,\n",
       " 'timeTotal': 0.719393228}"
      ]
     },
     "execution_count": 5,
     "metadata": {},
     "output_type": "execute_result"
    }
   ],
   "source": [
    "#****************************************\n",
    "#    User must NOT edit code below \n",
    "#****************************************\n",
    "strcmd='simulate(' + fullpathModel + ', stopTime=' + str(stopTime) + ', outputFormat=\"' + outputFormat + '\")'\n",
    "print('send: '+strcmd)\n",
    "\n",
    "print(\"...running simulation, wait...\")\n",
    "omc.sendExpression(strcmd)"
   ]
  },
  {
   "cell_type": "markdown",
   "id": "perceived-victim",
   "metadata": {},
   "source": [
    "<h1>Post Process</h1>"
   ]
  },
  {
   "cell_type": "code",
   "execution_count": 7,
   "id": "tender-omega",
   "metadata": {},
   "outputs": [
    {
     "data": {
      "text/plain": [
       "'/home/ubuntu/OMPythonWork'"
      ]
     },
     "execution_count": 7,
     "metadata": {},
     "output_type": "execute_result"
    }
   ],
   "source": [
    "os.chdir(dirWork)\n",
    "os.getcwd()"
   ]
  },
  {
   "cell_type": "code",
   "execution_count": null,
   "id": "abroad-technique",
   "metadata": {},
   "outputs": [],
   "source": [
    "df=[]\n",
    "i_df= -1\n",
    "\n",
    "os.chdir(dirWork)\n",
    "\n",
    "nmcsv= fullpathModel + '_res.csv'\n",
    "df.append(pd.read_csv(nmcsv))\n",
    "i_df= i_df+1\n",
    "\n",
    "df[i_df]"
   ]
  },
  {
   "cell_type": "code",
   "execution_count": null,
   "id": "extraordinary-parallel",
   "metadata": {},
   "outputs": [],
   "source": [
    "fig=[]\n",
    "i_fig=-1"
   ]
  },
  {
   "cell_type": "code",
   "execution_count": null,
   "id": "specified-courtesy",
   "metadata": {},
   "outputs": [],
   "source": [
    "varName=\"ramp_p_fluidState_1.y\"\n",
    "ylabel='Pressrue [Pa]'\n",
    "\n",
    "time= df[i_df].loc[:,'time']\n",
    "var= df[i_df].loc[:,varName]\n",
    "fig.append(plt.figure(figsize=(15,8)))\n",
    "plt.xlabel('time [s]')\n",
    "plt.ylabel(ylabel)\n",
    "plt.plot(time, var, color='red')\n",
    "plt.title(varName)\n",
    "plt.grid()"
   ]
  },
  {
   "cell_type": "code",
   "execution_count": null,
   "id": "illegal-french",
   "metadata": {},
   "outputs": [],
   "source": [
    "varName=\"ramp_T_fluidState_1.y\"\n",
    "ylabel='Temperature [K]'\n",
    "\n",
    "time= df[i_df].loc[:,'time']\n",
    "var= df[i_df].loc[:,varName]\n",
    "fig.append(plt.figure(figsize=(15,8)))\n",
    "plt.xlabel('time [s]')\n",
    "plt.ylabel(ylabel)\n",
    "plt.plot(time, var, color='red')\n",
    "plt.title(varName)\n",
    "plt.grid()"
   ]
  },
  {
   "cell_type": "code",
   "execution_count": null,
   "id": "cubic-crack",
   "metadata": {},
   "outputs": [],
   "source": [
    "varName=\"ramp_fracFuel.y\"\n",
    "ylabel='fraction [nond]'\n",
    "\n",
    "time= df[i_df].loc[:,'time']\n",
    "var= df[i_df].loc[:,varName]\n",
    "fig.append(plt.figure(figsize=(15,8)))\n",
    "plt.xlabel('time [s]')\n",
    "plt.ylabel(ylabel)\n",
    "plt.plot(time, var, color='red')\n",
    "plt.title(varName)\n",
    "plt.grid()"
   ]
  },
  {
   "cell_type": "code",
   "execution_count": null,
   "id": "afraid-obligation",
   "metadata": {},
   "outputs": [],
   "source": [
    "varName=\"OttoCycle.WoutCycle\"\n",
    "ylabel='Work [J]'\n",
    "\n",
    "time= df[i_df].loc[:,'time']\n",
    "var= df[i_df].loc[:,varName]\n",
    "fig.append(plt.figure(figsize=(15,8)))\n",
    "plt.xlabel('time [s]')\n",
    "plt.ylabel(ylabel)\n",
    "plt.plot(time, var, color='red')\n",
    "plt.title(varName)\n",
    "plt.grid()"
   ]
  },
  {
   "cell_type": "code",
   "execution_count": null,
   "id": "organizational-cathedral",
   "metadata": {},
   "outputs": [],
   "source": [
    "tgtTime=55\n",
    "widthTime=1\n",
    "\n",
    "#******************************\n",
    "rowTgt=0\n",
    "for i in range(len(df[i_df])):\n",
    "    if((tgtTime-widthTime <= df[i_df].at[i,'time']) and (df[i_df].at[i,'time'] <= tgtTime) ):\n",
    "        rowTgt=i\n",
    "        timeExtrd=df[i_df].at[i,'time']\n",
    "    ##### end if #####\n",
    "##### end for #####\n",
    "\n",
    "print(\"row extracted = \"+str(rowTgt))\n",
    "print(\"time of extracted = \"+str(timeExtrd))\n",
    "\n",
    "arr_h=[]\n",
    "arr_s=[]\n",
    "arr_p=[]\n",
    "arr_v=[]\n",
    "for i in range(1,5+1):\n",
    "    val= df[i_df].at[rowTgt, ('OttoCycle.arr_h['+str(i)+']')]\n",
    "    arr_h.append(val)\n",
    "    val= df[i_df].at[rowTgt, ('OttoCycle.arr_s['+str(i)+']')]\n",
    "    arr_s.append(val)\n",
    "    val= df[i_df].at[rowTgt, ('OttoCycle.arr_p['+str(i)+']')]\n",
    "    arr_p.append(val)\n",
    "    val= df[i_df].at[rowTgt, ('OttoCycle.arr_v['+str(i)+']')]\n",
    "    arr_v.append(val)\n",
    "#####\n",
    "\n",
    "print('arr_h= '+str(arr_h))\n",
    "print('arr_s= '+str(arr_s))\n",
    "print('arr_p= '+str(arr_p))\n",
    "print('arr_v= '+str(arr_v))\n"
   ]
  },
  {
   "cell_type": "code",
   "execution_count": null,
   "id": "turkish-psychiatry",
   "metadata": {},
   "outputs": [],
   "source": [
    "fig.append(plt.figure(figsize=(10,10)))\n",
    "plt.scatter(x=arr_s, y=arr_h, color='red')\n",
    "plt.grid()\n",
    "plt.title('h vs. s' + '; at time:' + str(tgtTime) + '[s]')\n",
    "plt.xlabel('spec. entropy [J/(kg*K)]')\n",
    "plt.ylabel('spec. enthalpy [J/kg]')\n",
    "''''''"
   ]
  },
  {
   "cell_type": "code",
   "execution_count": null,
   "id": "atomic-phase",
   "metadata": {},
   "outputs": [],
   "source": [
    "fig.append(plt.figure(figsize=(10,10)))\n",
    "plt.scatter(x=arr_v, y=arr_p, color='red')\n",
    "plt.grid()\n",
    "plt.title('p vs. v'+ '; at time:' + str(tgtTime) + '[s]')\n",
    "plt.xlabel('pressure [Pa]')\n",
    "plt.ylabel('spec. volume [m3/kg]')\n",
    "''''''"
   ]
  },
  {
   "cell_type": "markdown",
   "id": "romance-local",
   "metadata": {},
   "source": [
    "<h1>Process at the end of note</h1>"
   ]
  },
  {
   "cell_type": "code",
   "execution_count": null,
   "id": "excess-seeker",
   "metadata": {},
   "outputs": [],
   "source": [
    "os.chdir(pathNotebook)\n",
    "print(\"currend dir: \"+os.getcwd())"
   ]
  },
  {
   "cell_type": "code",
   "execution_count": null,
   "id": "artificial-kazakhstan",
   "metadata": {},
   "outputs": [],
   "source": []
  }
 ],
 "metadata": {
  "kernelspec": {
   "display_name": "Python 3",
   "language": "python",
   "name": "python3"
  },
  "language_info": {
   "codemirror_mode": {
    "name": "ipython",
    "version": 3
   },
   "file_extension": ".py",
   "mimetype": "text/x-python",
   "name": "python",
   "nbconvert_exporter": "python",
   "pygments_lexer": "ipython3",
   "version": "3.8.5"
  }
 },
 "nbformat": 4,
 "nbformat_minor": 5
}
