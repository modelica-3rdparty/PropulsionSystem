{
 "cells": [
  {
   "cell_type": "markdown",
   "id": "instant-playing",
   "metadata": {},
   "source": [
    "<h1>Examples.ThermodynamicCycles.OttoCycleIdeal00_ex01</h1>"
   ]
  },
  {
   "cell_type": "markdown",
   "id": "elder-portrait",
   "metadata": {},
   "source": [
    "<h1>Load modules </h1>"
   ]
  },
  {
   "cell_type": "code",
   "execution_count": 1,
   "id": "reduced-packet",
   "metadata": {},
   "outputs": [
    {
     "name": "stdout",
     "output_type": "stream",
     "text": [
      "------------------------------\n"
     ]
    }
   ],
   "source": [
    "#****************************************\n",
    "#    User must NOT edit code below \n",
    "#****************************************\n",
    "import OMPython\n",
    "from OMPython import OMCSessionZMQ\n",
    "\n",
    "import os\n",
    "from os.path import expanduser\n",
    "\n",
    "import pandas as pd\n",
    "import matplotlib as mpl\n",
    "import matplotlib.pyplot as plt\n",
    "import sys\n",
    "import pathlib\n",
    "\n",
    "from IPython.display import display, HTML\n",
    "print('------------------------------')"
   ]
  },
  {
   "cell_type": "markdown",
   "id": "apart-seattle",
   "metadata": {},
   "source": [
    "<h1>Use settings</h1>\n",
    "<p>Edit the strings below </p>"
   ]
  },
  {
   "cell_type": "code",
   "execution_count": 2,
   "id": "final-induction",
   "metadata": {},
   "outputs": [
    {
     "name": "stdout",
     "output_type": "stream",
     "text": [
      "------------------------------\n"
     ]
    }
   ],
   "source": [
    "dirWorkRelToHome='/OMPythonWork'\n",
    "\n",
    "#dirModelRelToLibDir='/Examples/ThermodynamicCycles'\n",
    "fullpathModel='PropulsionSystem.Examples.ThermodynamicCycles.OttoCycleIdeal00_ex01'\n",
    "nmModel='OttoCycleIdeal00_ex01'\n",
    "stopTime=70.0\n",
    "outputFormat='csv'\n",
    "print('------------------------------')"
   ]
  },
  {
   "cell_type": "markdown",
   "id": "retained-cedar",
   "metadata": {},
   "source": [
    "<h1>Setup </h1>"
   ]
  },
  {
   "cell_type": "code",
   "execution_count": 3,
   "id": "canadian-gregory",
   "metadata": {},
   "outputs": [
    {
     "name": "stdout",
     "output_type": "stream",
     "text": [
      "########## check user settings and related info. ##########\n",
      "-. This OS is: Windows (nt)\n",
      "-. Home directory of current environment is: C:\\Users\\grabacr\n",
      "-. Temporary Working directory is: C:\\Users\\grabacr/OMPythonWork\n",
      "\n",
      "-. Directory of This notebook: C:\\Users\\grabacr\\Dropbox\\01-sharedspace\\modelica-shared\\CustomLib\\PropulsionSystem\\Jupyter\n",
      "-. Directory of library is: C:\\Users\\grabacr\\Dropbox\\01-sharedspace\\modelica-shared\\CustomLib\\PropulsionSystem\n",
      "-. Full path of Model to be ran is: PropulsionSystem.Examples.ThermodynamicCycles.OttoCycleIdeal00_ex01\n",
      "------------------------------\n"
     ]
    }
   ],
   "source": [
    "#****************************************\n",
    "#    User must NOT edit code below \n",
    "#****************************************\n",
    "#*** get directory of this notebook\n",
    "sys.path.append('..')\n",
    "pathNotebook= os.getcwd()\n",
    "\n",
    "#*** distinguish OS\n",
    "if(os.name=='nt'):\n",
    "    dirHome=expanduser(\"~\")\n",
    "    typeOS='Windows (nt)'\n",
    "elif(os.name=='posix'):\n",
    "    dirHome=os.environ['HOME']\n",
    "    typeOS= 'Linux or Mac (posix)'\n",
    "##### end if #####\n",
    "\n",
    "#*** direcotory of temporary work\n",
    "dirWork= dirHome + dirWorkRelToHome\n",
    "\n",
    "#*** get library directory\n",
    "sys.path.append('..')\n",
    "dirLib= pathlib.Path('../')\n",
    "dirLib= dirLib.resolve()\n",
    "\n",
    "#*** get direcotry of model to run\n",
    "#dirModel= str(dirLib) + dirModelRelToLibDir\n",
    "\n",
    "#fullpathModelFile= dirModel + '/' + nmModel + \".mo\"\n",
    "\n",
    "print(\"########## check user settings and related info. ##########\")\n",
    "print('-. This OS is: ' + typeOS)\n",
    "print('-. Home directory of current environment is: ' + dirHome)\n",
    "print(\"-. Temporary Working directory is: \"+str(dirWork))\n",
    "print('')\n",
    "print('-. Directory of This notebook: '+ pathNotebook)\n",
    "print('-. Directory of library is: ' + str(dirLib))\n",
    "#print(\"-. Directory of model to be run: \" + dirModel)\n",
    "print(\"-. Full path of Model to be ran is: \" + fullpathModel)\n",
    "print('------------------------------')"
   ]
  },
  {
   "cell_type": "code",
   "execution_count": 4,
   "id": "electric-honduras",
   "metadata": {},
   "outputs": [
    {
     "name": "stderr",
     "output_type": "stream",
     "text": [
      "2021-01-25 22:55:14,849 - OMPython - INFO - OMC Server is up and running at file:///C:/Users/grabacr/AppData/Local/Temp/openmodelica.port.1c1fbefca13c4856a964cab6696ec201 pid=5388\n"
     ]
    },
    {
     "name": "stdout",
     "output_type": "stream",
     "text": [
      "currend dir: C:\\Users\\grabacr\\OMPythonWork\n",
      "send: cd(\"C:\\Users\\grabacr/OMPythonWork\")\n",
      "send: loadFile(\"C:\\Users\\grabacr\\Dropbox\\01-sharedspace\\modelica-shared\\CustomLib\\PropulsionSystem/package.mo\")\n",
      "\n",
      "move to directory of notebook\n",
      "currend dir, back to: C:\\Users\\grabacr\\Dropbox\\01-sharedspace\\modelica-shared\\CustomLib\\PropulsionSystem\\Jupyter\n",
      "------------------------------\n"
     ]
    }
   ],
   "source": [
    "#****************************************\n",
    "#    User must NOT edit code below \n",
    "#****************************************\n",
    "omc= OMCSessionZMQ()\n",
    "\n",
    "# move to temporary working directory\n",
    "os.chdir(dirWork)\n",
    "os.getcwd()\n",
    "print(\"currend dir: \"+os.getcwd())\n",
    "\n",
    "# move OMShell to working directory\n",
    "strcmd= 'cd(\"' + dirWork + '\")'\n",
    "print('send: '+strcmd)\n",
    "omc.sendExpression(strcmd)\n",
    "\n",
    "# load Modelica Standard Library\n",
    "omc.sendExpression(\"loadModel(Modelica)\")\n",
    "\n",
    "strcmd='loadFile(\"' + str(dirLib) +'/package.mo' + '\")'\n",
    "print('send: '+strcmd)\n",
    "omc.sendExpression(strcmd)\n",
    "\n",
    "#***** move back to notebook directory *****\n",
    "print(\"\")\n",
    "os.chdir(pathNotebook)\n",
    "print(\"move to directory of notebook\")\n",
    "print(\"currend dir, back to: \"+os.getcwd())\n",
    "print('------------------------------')"
   ]
  },
  {
   "cell_type": "markdown",
   "id": "operational-anniversary",
   "metadata": {},
   "source": [
    "<h1>Run simulation</h1>"
   ]
  },
  {
   "cell_type": "code",
   "execution_count": 5,
   "id": "champion-continent",
   "metadata": {},
   "outputs": [
    {
     "name": "stdout",
     "output_type": "stream",
     "text": [
      "currend dir: C:\\Users\\grabacr\\OMPythonWork\n",
      "send: cd(\"C:\\Users\\grabacr/OMPythonWork\")\n",
      "send: simulate(PropulsionSystem.Examples.ThermodynamicCycles.OttoCycleIdeal00_ex01, stopTime=70.0, outputFormat=\"csv\")\n",
      "...running simulation, wait...\n",
      "\n",
      "move to directory of notebook\n",
      "currend dir, back to: C:\\Users\\grabacr\\Dropbox\\01-sharedspace\\modelica-shared\\CustomLib\\PropulsionSystem\\Jupyter\n",
      "------------------------------\n"
     ]
    }
   ],
   "source": [
    "#****************************************\n",
    "#    User must NOT edit code below \n",
    "#****************************************\n",
    "# move to temporary working directory\n",
    "os.chdir(dirWork)\n",
    "os.getcwd()\n",
    "print(\"currend dir: \"+os.getcwd())\n",
    "\n",
    "# move OMShell to working directory\n",
    "strcmd= 'cd(\"' + dirWork + '\")'\n",
    "print('send: '+strcmd)\n",
    "omc.sendExpression(strcmd)\n",
    "\n",
    "strcmd='simulate(' + fullpathModel + ', stopTime=' + str(stopTime) + ', outputFormat=\"' + outputFormat + '\")'\n",
    "print('send: '+strcmd)\n",
    "print(\"...running simulation, wait...\")\n",
    "omc.sendExpression(strcmd)\n",
    "\n",
    "#***** move back to notebook directory *****\n",
    "print(\"\")\n",
    "os.chdir(pathNotebook)\n",
    "print(\"move to directory of notebook\")\n",
    "print(\"currend dir, back to: \"+os.getcwd())\n",
    "print('------------------------------')"
   ]
  },
  {
   "cell_type": "markdown",
   "id": "artistic-virgin",
   "metadata": {},
   "source": [
    "<h1>Post Process</h1>"
   ]
  },
  {
   "cell_type": "code",
   "execution_count": null,
   "id": "aware-argument",
   "metadata": {},
   "outputs": [],
   "source": []
  },
  {
   "cell_type": "code",
   "execution_count": 6,
   "id": "incomplete-administration",
   "metadata": {},
   "outputs": [
    {
     "name": "stdout",
     "output_type": "stream",
     "text": [
      "currend dir: C:\\Users\\grabacr\\OMPythonWork\n",
      "data read: C:\\Users\\grabacr\\OMPythonWork/PropulsionSystem.Examples.ThermodynamicCycles.OttoCycleIdeal00_ex01_res.csv\n",
      "\n",
      "move to directory of notebook\n",
      "currend dir, back to: C:\\Users\\grabacr\\Dropbox\\01-sharedspace\\modelica-shared\\CustomLib\\PropulsionSystem\\Jupyter\n"
     ]
    },
    {
     "data": {
      "text/html": [
       "<div>\n",
       "<style scoped>\n",
       "    .dataframe tbody tr th:only-of-type {\n",
       "        vertical-align: middle;\n",
       "    }\n",
       "\n",
       "    .dataframe tbody tr th {\n",
       "        vertical-align: top;\n",
       "    }\n",
       "\n",
       "    .dataframe thead th {\n",
       "        text-align: right;\n",
       "    }\n",
       "</style>\n",
       "<table border=\"1\" class=\"dataframe\">\n",
       "  <thead>\n",
       "    <tr style=\"text-align: right;\">\n",
       "      <th></th>\n",
       "      <th>time</th>\n",
       "      <th>OttoCycle.ER</th>\n",
       "      <th>OttoCycle.W_1_2</th>\n",
       "      <th>OttoCycle.W_3_4</th>\n",
       "      <th>OttoCycle.arr_T[2]</th>\n",
       "      <th>OttoCycle.arr_T[3]</th>\n",
       "      <th>OttoCycle.arr_T[4]</th>\n",
       "      <th>OttoCycle.arr_T[5]</th>\n",
       "      <th>OttoCycle.arr_V[3]</th>\n",
       "      <th>OttoCycle.arr_V[5]</th>\n",
       "      <th>...</th>\n",
       "      <th>OttoCycle.y_T_fluidState_3</th>\n",
       "      <th>OttoCycle.y_T_fluidState_4</th>\n",
       "      <th>OttoCycle.y_h_fluidState_4</th>\n",
       "      <th>OttoCycle.y_p_fluidState_2</th>\n",
       "      <th>OttoCycle.y_p_fluidState_3</th>\n",
       "      <th>OttoCycle.y_p_fluidState_4</th>\n",
       "      <th>OttoCycle.y_u_fluidState_4</th>\n",
       "      <th>ramp_fracFuel.y</th>\n",
       "      <th>ramp_h_fluidState_1.y</th>\n",
       "      <th>ramp_p_fluidState_1.y</th>\n",
       "    </tr>\n",
       "  </thead>\n",
       "  <tbody>\n",
       "    <tr>\n",
       "      <th>0</th>\n",
       "      <td>0.000000</td>\n",
       "      <td>12</td>\n",
       "      <td>46.405118</td>\n",
       "      <td>-354.339539</td>\n",
       "      <td>746.353618</td>\n",
       "      <td>5112.654321</td>\n",
       "      <td>2557.377270</td>\n",
       "      <td>286.950113</td>\n",
       "      <td>0.000009</td>\n",
       "      <td>0.000109</td>\n",
       "      <td>...</td>\n",
       "      <td>5112.654321</td>\n",
       "      <td>2557.377270</td>\n",
       "      <td>2.979638e+06</td>\n",
       "      <td>3.162541e+06</td>\n",
       "      <td>2.166396e+07</td>\n",
       "      <td>903035.894574</td>\n",
       "      <td>2.242532e+06</td>\n",
       "      <td>0.100</td>\n",
       "      <td>289302.6</td>\n",
       "      <td>101325.0</td>\n",
       "    </tr>\n",
       "    <tr>\n",
       "      <th>1</th>\n",
       "      <td>0.140562</td>\n",
       "      <td>12</td>\n",
       "      <td>46.405118</td>\n",
       "      <td>-354.339539</td>\n",
       "      <td>746.353618</td>\n",
       "      <td>5112.654321</td>\n",
       "      <td>2557.377270</td>\n",
       "      <td>286.950113</td>\n",
       "      <td>0.000009</td>\n",
       "      <td>0.000109</td>\n",
       "      <td>...</td>\n",
       "      <td>5112.654321</td>\n",
       "      <td>2557.377270</td>\n",
       "      <td>2.979638e+06</td>\n",
       "      <td>3.162541e+06</td>\n",
       "      <td>2.166396e+07</td>\n",
       "      <td>903035.894574</td>\n",
       "      <td>2.242532e+06</td>\n",
       "      <td>0.100</td>\n",
       "      <td>289302.6</td>\n",
       "      <td>101325.0</td>\n",
       "    </tr>\n",
       "    <tr>\n",
       "      <th>2</th>\n",
       "      <td>0.281124</td>\n",
       "      <td>12</td>\n",
       "      <td>46.405118</td>\n",
       "      <td>-354.339539</td>\n",
       "      <td>746.353618</td>\n",
       "      <td>5112.654321</td>\n",
       "      <td>2557.377270</td>\n",
       "      <td>286.950113</td>\n",
       "      <td>0.000009</td>\n",
       "      <td>0.000109</td>\n",
       "      <td>...</td>\n",
       "      <td>5112.654321</td>\n",
       "      <td>2557.377270</td>\n",
       "      <td>2.979638e+06</td>\n",
       "      <td>3.162541e+06</td>\n",
       "      <td>2.166396e+07</td>\n",
       "      <td>903035.894574</td>\n",
       "      <td>2.242532e+06</td>\n",
       "      <td>0.100</td>\n",
       "      <td>289302.6</td>\n",
       "      <td>101325.0</td>\n",
       "    </tr>\n",
       "    <tr>\n",
       "      <th>3</th>\n",
       "      <td>0.421687</td>\n",
       "      <td>12</td>\n",
       "      <td>46.405118</td>\n",
       "      <td>-354.339539</td>\n",
       "      <td>746.353618</td>\n",
       "      <td>5112.654321</td>\n",
       "      <td>2557.377270</td>\n",
       "      <td>286.950113</td>\n",
       "      <td>0.000009</td>\n",
       "      <td>0.000109</td>\n",
       "      <td>...</td>\n",
       "      <td>5112.654321</td>\n",
       "      <td>2557.377270</td>\n",
       "      <td>2.979638e+06</td>\n",
       "      <td>3.162541e+06</td>\n",
       "      <td>2.166396e+07</td>\n",
       "      <td>903035.894574</td>\n",
       "      <td>2.242532e+06</td>\n",
       "      <td>0.100</td>\n",
       "      <td>289302.6</td>\n",
       "      <td>101325.0</td>\n",
       "    </tr>\n",
       "    <tr>\n",
       "      <th>4</th>\n",
       "      <td>0.562249</td>\n",
       "      <td>12</td>\n",
       "      <td>46.405118</td>\n",
       "      <td>-354.339539</td>\n",
       "      <td>746.353618</td>\n",
       "      <td>5112.654321</td>\n",
       "      <td>2557.377270</td>\n",
       "      <td>286.950113</td>\n",
       "      <td>0.000009</td>\n",
       "      <td>0.000109</td>\n",
       "      <td>...</td>\n",
       "      <td>5112.654321</td>\n",
       "      <td>2557.377270</td>\n",
       "      <td>2.979638e+06</td>\n",
       "      <td>3.162541e+06</td>\n",
       "      <td>2.166396e+07</td>\n",
       "      <td>903035.894574</td>\n",
       "      <td>2.242532e+06</td>\n",
       "      <td>0.100</td>\n",
       "      <td>289302.6</td>\n",
       "      <td>101325.0</td>\n",
       "    </tr>\n",
       "    <tr>\n",
       "      <th>...</th>\n",
       "      <td>...</td>\n",
       "      <td>...</td>\n",
       "      <td>...</td>\n",
       "      <td>...</td>\n",
       "      <td>...</td>\n",
       "      <td>...</td>\n",
       "      <td>...</td>\n",
       "      <td>...</td>\n",
       "      <td>...</td>\n",
       "      <td>...</td>\n",
       "      <td>...</td>\n",
       "      <td>...</td>\n",
       "      <td>...</td>\n",
       "      <td>...</td>\n",
       "      <td>...</td>\n",
       "      <td>...</td>\n",
       "      <td>...</td>\n",
       "      <td>...</td>\n",
       "      <td>...</td>\n",
       "      <td>...</td>\n",
       "      <td>...</td>\n",
       "    </tr>\n",
       "    <tr>\n",
       "      <th>509</th>\n",
       "      <td>69.578313</td>\n",
       "      <td>12</td>\n",
       "      <td>91.440218</td>\n",
       "      <td>-97.401343</td>\n",
       "      <td>859.379732</td>\n",
       "      <td>911.202391</td>\n",
       "      <td>360.040933</td>\n",
       "      <td>336.543208</td>\n",
       "      <td>0.000009</td>\n",
       "      <td>0.000109</td>\n",
       "      <td>...</td>\n",
       "      <td>911.202391</td>\n",
       "      <td>360.040933</td>\n",
       "      <td>3.633473e+05</td>\n",
       "      <td>6.169120e+06</td>\n",
       "      <td>6.541133e+06</td>\n",
       "      <td>215381.677466</td>\n",
       "      <td>2.595737e+05</td>\n",
       "      <td>0.001</td>\n",
       "      <td>339502.6</td>\n",
       "      <td>201325.0</td>\n",
       "    </tr>\n",
       "    <tr>\n",
       "      <th>510</th>\n",
       "      <td>69.718876</td>\n",
       "      <td>12</td>\n",
       "      <td>91.440218</td>\n",
       "      <td>-97.401343</td>\n",
       "      <td>859.379732</td>\n",
       "      <td>911.202391</td>\n",
       "      <td>360.040933</td>\n",
       "      <td>336.543208</td>\n",
       "      <td>0.000009</td>\n",
       "      <td>0.000109</td>\n",
       "      <td>...</td>\n",
       "      <td>911.202391</td>\n",
       "      <td>360.040933</td>\n",
       "      <td>3.633473e+05</td>\n",
       "      <td>6.169120e+06</td>\n",
       "      <td>6.541133e+06</td>\n",
       "      <td>215381.677466</td>\n",
       "      <td>2.595737e+05</td>\n",
       "      <td>0.001</td>\n",
       "      <td>339502.6</td>\n",
       "      <td>201325.0</td>\n",
       "    </tr>\n",
       "    <tr>\n",
       "      <th>511</th>\n",
       "      <td>69.859438</td>\n",
       "      <td>12</td>\n",
       "      <td>91.440218</td>\n",
       "      <td>-97.401343</td>\n",
       "      <td>859.379732</td>\n",
       "      <td>911.202391</td>\n",
       "      <td>360.040933</td>\n",
       "      <td>336.543208</td>\n",
       "      <td>0.000009</td>\n",
       "      <td>0.000109</td>\n",
       "      <td>...</td>\n",
       "      <td>911.202391</td>\n",
       "      <td>360.040933</td>\n",
       "      <td>3.633473e+05</td>\n",
       "      <td>6.169120e+06</td>\n",
       "      <td>6.541133e+06</td>\n",
       "      <td>215381.677466</td>\n",
       "      <td>2.595737e+05</td>\n",
       "      <td>0.001</td>\n",
       "      <td>339502.6</td>\n",
       "      <td>201325.0</td>\n",
       "    </tr>\n",
       "    <tr>\n",
       "      <th>512</th>\n",
       "      <td>70.000000</td>\n",
       "      <td>12</td>\n",
       "      <td>91.440218</td>\n",
       "      <td>-97.401343</td>\n",
       "      <td>859.379732</td>\n",
       "      <td>911.202391</td>\n",
       "      <td>360.040933</td>\n",
       "      <td>336.543208</td>\n",
       "      <td>0.000009</td>\n",
       "      <td>0.000109</td>\n",
       "      <td>...</td>\n",
       "      <td>911.202391</td>\n",
       "      <td>360.040933</td>\n",
       "      <td>3.633473e+05</td>\n",
       "      <td>6.169120e+06</td>\n",
       "      <td>6.541133e+06</td>\n",
       "      <td>215381.677466</td>\n",
       "      <td>2.595737e+05</td>\n",
       "      <td>0.001</td>\n",
       "      <td>339502.6</td>\n",
       "      <td>201325.0</td>\n",
       "    </tr>\n",
       "    <tr>\n",
       "      <th>513</th>\n",
       "      <td>70.000000</td>\n",
       "      <td>12</td>\n",
       "      <td>91.440218</td>\n",
       "      <td>-97.401343</td>\n",
       "      <td>859.379732</td>\n",
       "      <td>911.202391</td>\n",
       "      <td>360.040933</td>\n",
       "      <td>336.543208</td>\n",
       "      <td>0.000009</td>\n",
       "      <td>0.000109</td>\n",
       "      <td>...</td>\n",
       "      <td>911.202391</td>\n",
       "      <td>360.040933</td>\n",
       "      <td>3.633473e+05</td>\n",
       "      <td>6.169120e+06</td>\n",
       "      <td>6.541133e+06</td>\n",
       "      <td>215381.677466</td>\n",
       "      <td>2.595737e+05</td>\n",
       "      <td>0.001</td>\n",
       "      <td>339502.6</td>\n",
       "      <td>201325.0</td>\n",
       "    </tr>\n",
       "  </tbody>\n",
       "</table>\n",
       "<p>514 rows × 285 columns</p>\n",
       "</div>"
      ],
      "text/plain": [
       "          time  OttoCycle.ER  OttoCycle.W_1_2  OttoCycle.W_3_4  \\\n",
       "0     0.000000            12        46.405118      -354.339539   \n",
       "1     0.140562            12        46.405118      -354.339539   \n",
       "2     0.281124            12        46.405118      -354.339539   \n",
       "3     0.421687            12        46.405118      -354.339539   \n",
       "4     0.562249            12        46.405118      -354.339539   \n",
       "..         ...           ...              ...              ...   \n",
       "509  69.578313            12        91.440218       -97.401343   \n",
       "510  69.718876            12        91.440218       -97.401343   \n",
       "511  69.859438            12        91.440218       -97.401343   \n",
       "512  70.000000            12        91.440218       -97.401343   \n",
       "513  70.000000            12        91.440218       -97.401343   \n",
       "\n",
       "     OttoCycle.arr_T[2]  OttoCycle.arr_T[3]  OttoCycle.arr_T[4]  \\\n",
       "0            746.353618         5112.654321         2557.377270   \n",
       "1            746.353618         5112.654321         2557.377270   \n",
       "2            746.353618         5112.654321         2557.377270   \n",
       "3            746.353618         5112.654321         2557.377270   \n",
       "4            746.353618         5112.654321         2557.377270   \n",
       "..                  ...                 ...                 ...   \n",
       "509          859.379732          911.202391          360.040933   \n",
       "510          859.379732          911.202391          360.040933   \n",
       "511          859.379732          911.202391          360.040933   \n",
       "512          859.379732          911.202391          360.040933   \n",
       "513          859.379732          911.202391          360.040933   \n",
       "\n",
       "     OttoCycle.arr_T[5]  OttoCycle.arr_V[3]  OttoCycle.arr_V[5]  ...  \\\n",
       "0            286.950113            0.000009            0.000109  ...   \n",
       "1            286.950113            0.000009            0.000109  ...   \n",
       "2            286.950113            0.000009            0.000109  ...   \n",
       "3            286.950113            0.000009            0.000109  ...   \n",
       "4            286.950113            0.000009            0.000109  ...   \n",
       "..                  ...                 ...                 ...  ...   \n",
       "509          336.543208            0.000009            0.000109  ...   \n",
       "510          336.543208            0.000009            0.000109  ...   \n",
       "511          336.543208            0.000009            0.000109  ...   \n",
       "512          336.543208            0.000009            0.000109  ...   \n",
       "513          336.543208            0.000009            0.000109  ...   \n",
       "\n",
       "     OttoCycle.y_T_fluidState_3  OttoCycle.y_T_fluidState_4  \\\n",
       "0                   5112.654321                 2557.377270   \n",
       "1                   5112.654321                 2557.377270   \n",
       "2                   5112.654321                 2557.377270   \n",
       "3                   5112.654321                 2557.377270   \n",
       "4                   5112.654321                 2557.377270   \n",
       "..                          ...                         ...   \n",
       "509                  911.202391                  360.040933   \n",
       "510                  911.202391                  360.040933   \n",
       "511                  911.202391                  360.040933   \n",
       "512                  911.202391                  360.040933   \n",
       "513                  911.202391                  360.040933   \n",
       "\n",
       "     OttoCycle.y_h_fluidState_4  OttoCycle.y_p_fluidState_2  \\\n",
       "0                  2.979638e+06                3.162541e+06   \n",
       "1                  2.979638e+06                3.162541e+06   \n",
       "2                  2.979638e+06                3.162541e+06   \n",
       "3                  2.979638e+06                3.162541e+06   \n",
       "4                  2.979638e+06                3.162541e+06   \n",
       "..                          ...                         ...   \n",
       "509                3.633473e+05                6.169120e+06   \n",
       "510                3.633473e+05                6.169120e+06   \n",
       "511                3.633473e+05                6.169120e+06   \n",
       "512                3.633473e+05                6.169120e+06   \n",
       "513                3.633473e+05                6.169120e+06   \n",
       "\n",
       "     OttoCycle.y_p_fluidState_3  OttoCycle.y_p_fluidState_4  \\\n",
       "0                  2.166396e+07               903035.894574   \n",
       "1                  2.166396e+07               903035.894574   \n",
       "2                  2.166396e+07               903035.894574   \n",
       "3                  2.166396e+07               903035.894574   \n",
       "4                  2.166396e+07               903035.894574   \n",
       "..                          ...                         ...   \n",
       "509                6.541133e+06               215381.677466   \n",
       "510                6.541133e+06               215381.677466   \n",
       "511                6.541133e+06               215381.677466   \n",
       "512                6.541133e+06               215381.677466   \n",
       "513                6.541133e+06               215381.677466   \n",
       "\n",
       "     OttoCycle.y_u_fluidState_4  ramp_fracFuel.y  ramp_h_fluidState_1.y  \\\n",
       "0                  2.242532e+06            0.100               289302.6   \n",
       "1                  2.242532e+06            0.100               289302.6   \n",
       "2                  2.242532e+06            0.100               289302.6   \n",
       "3                  2.242532e+06            0.100               289302.6   \n",
       "4                  2.242532e+06            0.100               289302.6   \n",
       "..                          ...              ...                    ...   \n",
       "509                2.595737e+05            0.001               339502.6   \n",
       "510                2.595737e+05            0.001               339502.6   \n",
       "511                2.595737e+05            0.001               339502.6   \n",
       "512                2.595737e+05            0.001               339502.6   \n",
       "513                2.595737e+05            0.001               339502.6   \n",
       "\n",
       "     ramp_p_fluidState_1.y  \n",
       "0                 101325.0  \n",
       "1                 101325.0  \n",
       "2                 101325.0  \n",
       "3                 101325.0  \n",
       "4                 101325.0  \n",
       "..                     ...  \n",
       "509               201325.0  \n",
       "510               201325.0  \n",
       "511               201325.0  \n",
       "512               201325.0  \n",
       "513               201325.0  \n",
       "\n",
       "[514 rows x 285 columns]"
      ]
     },
     "execution_count": 6,
     "metadata": {},
     "output_type": "execute_result"
    }
   ],
   "source": [
    "df=[]\n",
    "i_df= -1\n",
    "\n",
    "# move to temporary working directory\n",
    "os.chdir(dirWork)\n",
    "os.getcwd()\n",
    "print(\"currend dir: \"+os.getcwd())\n",
    "\n",
    "nmcsv= fullpathModel + '_res.csv'\n",
    "print(\"data read: \"+ os.getcwd()+\"/\"+nmcsv)\n",
    "df.append(pd.read_csv(nmcsv))\n",
    "i_df= i_df+1\n",
    "\n",
    "#***** move back to notebook directory *****\n",
    "print(\"\")\n",
    "os.chdir(pathNotebook)\n",
    "print(\"move to directory of notebook\")\n",
    "print(\"currend dir, back to: \"+os.getcwd())\n",
    "\n",
    "df[i_df]"
   ]
  },
  {
   "cell_type": "code",
   "execution_count": 7,
   "id": "complete-arthritis",
   "metadata": {},
   "outputs": [
    {
     "name": "stdout",
     "output_type": "stream",
     "text": [
      "------------------------------\n"
     ]
    }
   ],
   "source": [
    "fig=[]\n",
    "i_fig=-1\n",
    "print('------------------------------')"
   ]
  },
  {
   "cell_type": "markdown",
   "id": "hourly-consumption",
   "metadata": {},
   "source": [
    "<h2>Inputs</h2>"
   ]
  },
  {
   "cell_type": "code",
   "execution_count": 8,
   "id": "nominated-sheet",
   "metadata": {},
   "outputs": [
    {
     "name": "stdout",
     "output_type": "stream",
     "text": [
      "------------------------------\n"
     ]
    },
    {
     "data": {
      "image/png": "[encoded data removed]",
      "text/plain": [
       "<Figure size 1080x576 with 1 Axes>"
      ]
     },
     "metadata": {
      "needs_background": "light"
     },
     "output_type": "display_data"
    }
   ],
   "source": [
    "varName=\"ramp_p_fluidState_1.y\"\n",
    "ylabel='Pressrue [Pa]'\n",
    "\n",
    "time= df[i_df].loc[:,'time']\n",
    "var= df[i_df].loc[:,varName]\n",
    "fig.append(plt.figure(figsize=(15,8)))\n",
    "plt.xlabel('time [s]')\n",
    "plt.ylabel(ylabel)\n",
    "plt.plot(time, var)\n",
    "plt.title(varName)\n",
    "plt.grid()\n",
    "print('------------------------------')"
   ]
  },
  {
   "cell_type": "code",
   "execution_count": 9,
   "id": "employed-carroll",
   "metadata": {},
   "outputs": [
    {
     "name": "stdout",
     "output_type": "stream",
     "text": [
      "------------------------------\n"
     ]
    },
    {
     "data": {
      "image/png": "[encoded data removed]",
      "text/plain": [
       "<Figure size 1080x576 with 1 Axes>"
      ]
     },
     "metadata": {
      "needs_background": "light"
     },
     "output_type": "display_data"
    }
   ],
   "source": [
    "varName=\"ramp_T_fluidState_1.y\"\n",
    "ylabel='Temperature [K]'\n",
    "\n",
    "time= df[i_df].loc[:,'time']\n",
    "var= df[i_df].loc[:,varName]\n",
    "fig.append(plt.figure(figsize=(15,8)))\n",
    "plt.xlabel('time [s]')\n",
    "plt.ylabel(ylabel)\n",
    "plt.plot(time, var)\n",
    "plt.title(varName)\n",
    "plt.grid()\n",
    "print('------------------------------')"
   ]
  },
  {
   "cell_type": "code",
   "execution_count": 10,
   "id": "developing-lucas",
   "metadata": {},
   "outputs": [
    {
     "name": "stdout",
     "output_type": "stream",
     "text": [
      "------------------------------\n"
     ]
    },
    {
     "data": {
      "image/png": "[encoded data removed]",
      "text/plain": [
       "<Figure size 1080x576 with 1 Axes>"
      ]
     },
     "metadata": {
      "needs_background": "light"
     },
     "output_type": "display_data"
    }
   ],
   "source": [
    "varName=\"ramp_fracFuel.y\"\n",
    "ylabel='fraction [nond]'\n",
    "\n",
    "time= df[i_df].loc[:,'time']\n",
    "var= df[i_df].loc[:,varName]\n",
    "fig.append(plt.figure(figsize=(15,8)))\n",
    "plt.xlabel('time [s]')\n",
    "plt.ylabel(ylabel)\n",
    "plt.plot(time, var)\n",
    "plt.title(varName)\n",
    "plt.grid()\n",
    "print('------------------------------')"
   ]
  },
  {
   "cell_type": "markdown",
   "id": "violent-strategy",
   "metadata": {},
   "source": [
    "<h2>Outputs</h2>"
   ]
  },
  {
   "cell_type": "code",
   "execution_count": 11,
   "id": "tropical-craft",
   "metadata": {},
   "outputs": [
    {
     "name": "stdout",
     "output_type": "stream",
     "text": [
      "------------------------------\n"
     ]
    },
    {
     "data": {
      "image/png": "[encoded data removed]",
      "text/plain": [
       "<Figure size 1080x576 with 1 Axes>"
      ]
     },
     "metadata": {
      "needs_background": "light"
     },
     "output_type": "display_data"
    }
   ],
   "source": [
    "varName=\"OttoCycle.WoutCycle\"\n",
    "ylabel='Work [J]'\n",
    "\n",
    "time= df[i_df].loc[:,'time']\n",
    "var= df[i_df].loc[:,varName]\n",
    "fig.append(plt.figure(figsize=(15,8)))\n",
    "plt.xlabel('time [s]')\n",
    "plt.ylabel(ylabel)\n",
    "plt.plot(time, var, color='red')\n",
    "plt.title(varName)\n",
    "plt.grid()\n",
    "print('------------------------------')"
   ]
  },
  {
   "cell_type": "code",
   "execution_count": 12,
   "id": "binary-accreditation",
   "metadata": {},
   "outputs": [
    {
     "name": "stdout",
     "output_type": "stream",
     "text": [
      "------------------------------\n"
     ]
    },
    {
     "data": {
      "image/png": "[encoded data removed]",
      "text/plain": [
       "<Figure size 1080x576 with 1 Axes>"
      ]
     },
     "metadata": {
      "needs_background": "light"
     },
     "output_type": "display_data"
    }
   ],
   "source": [
    "varName=\"OttoCycle.flag_stall\"\n",
    "ylabel='boolean'\n",
    "\n",
    "time= df[i_df].loc[:,'time']\n",
    "var= df[i_df].loc[:,varName]\n",
    "fig.append(plt.figure(figsize=(15,8)))\n",
    "plt.xlabel('time [s]')\n",
    "plt.ylabel(ylabel)\n",
    "plt.plot(time, var, color='red')\n",
    "plt.title(varName)\n",
    "plt.grid()\n",
    "print('------------------------------')"
   ]
  },
  {
   "cell_type": "code",
   "execution_count": 13,
   "id": "stupid-equivalent",
   "metadata": {},
   "outputs": [
    {
     "name": "stdout",
     "output_type": "stream",
     "text": [
      "------------------------------\n"
     ]
    },
    {
     "data": {
      "image/png": "[encoded data removed]",
      "text/plain": [
       "<Figure size 1080x576 with 1 Axes>"
      ]
     },
     "metadata": {
      "needs_background": "light"
     },
     "output_type": "display_data"
    }
   ],
   "source": [
    "varName=\"OttoCycle.effThermal\"\n",
    "ylabel='efficiency [nond]'\n",
    "\n",
    "time= df[i_df].loc[:,'time']\n",
    "var= df[i_df].loc[:,varName]\n",
    "fig.append(plt.figure(figsize=(15,8)))\n",
    "plt.xlabel('time [s]')\n",
    "plt.ylabel(ylabel)\n",
    "plt.plot(time, var, color='red')\n",
    "plt.title(varName)\n",
    "plt.grid()\n",
    "print('------------------------------')"
   ]
  },
  {
   "cell_type": "markdown",
   "id": "maritime-credit",
   "metadata": {},
   "source": [
    "<h2>Extract variables at specified time</h2>"
   ]
  },
  {
   "cell_type": "code",
   "execution_count": 14,
   "id": "accessible-darwin",
   "metadata": {},
   "outputs": [
    {
     "name": "stdout",
     "output_type": "stream",
     "text": [
      "row extracted = 290\n",
      "time of extracted = 39.91967871485944\n",
      "------------------------------\n"
     ]
    }
   ],
   "source": [
    "tgtTime=40\n",
    "widthTime=1\n",
    "\n",
    "#******************************\n",
    "rowTgt=0\n",
    "for i in range(len(df[i_df])):\n",
    "    if((tgtTime-widthTime <= df[i_df].at[i,'time']) and (df[i_df].at[i,'time'] <= tgtTime) ):\n",
    "        rowTgt=i\n",
    "        timeExtrd=df[i_df].at[i,'time']\n",
    "    ##### end if #####\n",
    "##### end for #####\n",
    "\n",
    "print(\"row extracted = \"+str(rowTgt))\n",
    "print(\"time of extracted = \"+str(timeExtrd))\n",
    "\n",
    "arr_h=[]\n",
    "arr_s=[]\n",
    "arr_p=[]\n",
    "arr_v=[]\n",
    "for i in range(1,5+1):\n",
    "    val= df[i_df].at[rowTgt, ('OttoCycle.arr_h['+str(i)+']')]\n",
    "    arr_h.append(val)\n",
    "    val= df[i_df].at[rowTgt, ('OttoCycle.arr_s['+str(i)+']')]\n",
    "    arr_s.append(val)\n",
    "    val= df[i_df].at[rowTgt, ('OttoCycle.arr_p['+str(i)+']')]\n",
    "    arr_p.append(val)\n",
    "    val= df[i_df].at[rowTgt, ('OttoCycle.arr_v['+str(i)+']')]\n",
    "    arr_v.append(val)\n",
    "##### end for #####\n",
    "\n",
    "arr_hs_s_p2=[]; arr_hs_h_p2=[]\n",
    "arr_hs_s_p3=[]; arr_hs_h_p3=[]\n",
    "arr_hs_s_p4=[]; arr_hs_h_p4=[]\n",
    "arr_hs_s_p1=[]; arr_hs_h_p1=[]\n",
    "\n",
    "arr_pv_v_s1=[]; arr_pv_p_s1=[]\n",
    "arr_pv_v_s3=[]; arr_pv_p_s3=[]\n",
    "\n",
    "nPts= df[i_df].at[rowTgt, ('OttoCycle.arr_hs_p2.nPts')]\n",
    "for i in range(1, nPts+1):\n",
    "    val=df[i_df].at[rowTgt, ('OttoCycle.arr_hs_p2.arr_s['+str(i)+']')]; arr_hs_s_p2.append(val)\n",
    "    val=df[i_df].at[rowTgt, ('OttoCycle.arr_hs_p2.arr_h['+str(i)+']')]; arr_hs_h_p2.append(val)\n",
    "    val=df[i_df].at[rowTgt, ('OttoCycle.arr_hs_p3.arr_s['+str(i)+']')]; arr_hs_s_p3.append(val)\n",
    "    val=df[i_df].at[rowTgt, ('OttoCycle.arr_hs_p3.arr_h['+str(i)+']')]; arr_hs_h_p3.append(val)\n",
    "    val=df[i_df].at[rowTgt, ('OttoCycle.arr_hs_p4.arr_s['+str(i)+']')]; arr_hs_s_p4.append(val)\n",
    "    val=df[i_df].at[rowTgt, ('OttoCycle.arr_hs_p4.arr_h['+str(i)+']')]; arr_hs_h_p4.append(val)\n",
    "    val=df[i_df].at[rowTgt, ('OttoCycle.arr_hs_p1.arr_s['+str(i)+']')]; arr_hs_s_p1.append(val)\n",
    "    val=df[i_df].at[rowTgt, ('OttoCycle.arr_hs_p1.arr_h['+str(i)+']')]; arr_hs_h_p1.append(val)\n",
    "    \n",
    "    val=df[i_df].at[rowTgt, ('OttoCycle.arr_pv_s1.arr_v['+str(i)+']')]; arr_pv_v_s1.append(val)\n",
    "    val=df[i_df].at[rowTgt, ('OttoCycle.arr_pv_s1.arr_p['+str(i)+']')]; arr_pv_p_s1.append(val)\n",
    "    val=df[i_df].at[rowTgt, ('OttoCycle.arr_pv_s3.arr_v['+str(i)+']')]; arr_pv_v_s3.append(val)\n",
    "    val=df[i_df].at[rowTgt, ('OttoCycle.arr_pv_s3.arr_p['+str(i)+']')]; arr_pv_p_s3.append(val)\n",
    "##### end for #####\n",
    "print('------------------------------')"
   ]
  },
  {
   "cell_type": "code",
   "execution_count": 20,
   "id": "accredited-appointment",
   "metadata": {},
   "outputs": [
    {
     "name": "stdout",
     "output_type": "stream",
     "text": [
      "------------------------------\n"
     ]
    },
    {
     "data": {
      "image/png": "[encoded data removed]",
      "text/plain": [
       "<Figure size 720x720 with 1 Axes>"
      ]
     },
     "metadata": {
      "needs_background": "light"
     },
     "output_type": "display_data"
    }
   ],
   "source": [
    "fig.append(plt.figure(figsize=(10,10)))\n",
    "plt.scatter(x=arr_s, y=arr_h, color='red', s=120)\n",
    "plt.plot(arr_hs_s_p2, arr_hs_h_p2, linestyle='dashed')\n",
    "plt.plot(arr_hs_s_p3, arr_hs_h_p3, linestyle='dashed')\n",
    "plt.plot(arr_hs_s_p4, arr_hs_h_p4, linestyle='dashed')\n",
    "plt.plot(arr_hs_s_p1, arr_hs_h_p1, linestyle='dashed')\n",
    "plt.grid()\n",
    "plt.title('h vs. s' + '; at time:' + str(tgtTime) + '[s]')\n",
    "plt.xlabel('spec. entropy [J/(kg*K)]')\n",
    "plt.ylabel('spec. enthalpy [J/kg]')\n",
    "for i in range(0, 4):\n",
    "    if((i==1-1)or(i==3-1)):\n",
    "        plt.annotate('', xy=[arr_s[i+1],arr_h[i+1]], xytext=[arr_s[i],arr_h[i]],\n",
    "                    arrowprops=dict(shrink=0, width=0.5, headwidth=8, headlength=14, connectionstyle='arc3',\n",
    "                                    facecolor='gray', edgecolor='gray', linestyle='dashed')\n",
    "                    )\n",
    "##### end for #####\n",
    "''''''\n",
    "print('------------------------------')"
   ]
  },
  {
   "cell_type": "code",
   "execution_count": 19,
   "id": "varied-hamilton",
   "metadata": {},
   "outputs": [
    {
     "name": "stdout",
     "output_type": "stream",
     "text": [
      "------------------------------\n"
     ]
    },
    {
     "data": {
      "image/png": "[encoded data removed]",
      "text/plain": [
       "<Figure size 720x720 with 1 Axes>"
      ]
     },
     "metadata": {
      "needs_background": "light"
     },
     "output_type": "display_data"
    }
   ],
   "source": [
    "fig.append(plt.figure(figsize=(10,10)))\n",
    "plt.scatter(x=arr_v, y=arr_p, color='red', s=100)\n",
    "plt.plot(arr_pv_v_s1, arr_pv_p_s1, linestyle='dashed')\n",
    "plt.plot(arr_pv_v_s3, arr_pv_p_s3, linestyle='dashed')\n",
    "plt.grid()\n",
    "plt.title('p vs. v'+ '; at time:' + str(tgtTime) + '[s]')\n",
    "plt.xlabel('spec. volume [m3/kg]')\n",
    "plt.ylabel('pressure [Pa]')\n",
    "for i in range(0, 4):\n",
    "    if((i==2-1)or(i==4-1)):\n",
    "        plt.annotate('', xy=[arr_v[i+1],arr_p[i+1]], xytext=[arr_v[i],arr_p[i]],\n",
    "                    arrowprops=dict(shrink=0, width=0.5, headwidth=8, headlength=12, connectionstyle='arc3',\n",
    "                                    facecolor='gray', edgecolor='gray', linestyle='dashed')\n",
    "                    )\n",
    "##### end for #####\n",
    "''''''\n",
    "print('------------------------------')"
   ]
  },
  {
   "cell_type": "markdown",
   "id": "obvious-canada",
   "metadata": {},
   "source": [
    "<h1>Process at the end of note</h1>"
   ]
  },
  {
   "cell_type": "code",
   "execution_count": 17,
   "id": "premium-model",
   "metadata": {},
   "outputs": [
    {
     "name": "stdout",
     "output_type": "stream",
     "text": [
      "\n",
      "move to directory of notebook\n",
      "currend dir, back to: C:\\Users\\grabacr\\Dropbox\\01-sharedspace\\modelica-shared\\CustomLib\\PropulsionSystem\\Jupyter\n",
      "------------------------------\n"
     ]
    }
   ],
   "source": [
    "print(\"\")\n",
    "os.chdir(pathNotebook)\n",
    "print(\"move to directory of notebook\")\n",
    "print(\"currend dir, back to: \"+os.getcwd())\n",
    "print('------------------------------')"
   ]
  },
  {
   "cell_type": "code",
   "execution_count": null,
   "id": "interstate-landscape",
   "metadata": {},
   "outputs": [],
   "source": []
  }
 ],
 "metadata": {
  "kernelspec": {
   "display_name": "Python 3",
   "language": "python",
   "name": "python3"
  },
  "language_info": {
   "codemirror_mode": {
    "name": "ipython",
    "version": 3
   },
   "file_extension": ".py",
   "mimetype": "text/x-python",
   "name": "python",
   "nbconvert_exporter": "python",
   "pygments_lexer": "ipython3",
   "version": "3.9.1"
  }
 },
 "nbformat": 4,
 "nbformat_minor": 5
}
