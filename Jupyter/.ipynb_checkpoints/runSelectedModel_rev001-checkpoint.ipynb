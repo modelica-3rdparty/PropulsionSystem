{
 "cells": [
  {
   "cell_type": "markdown",
   "id": "completed-closer",
   "metadata": {},
   "source": [
    "<h1>run BouncingBall.mo</h1>"
   ]
  },
  {
   "cell_type": "markdown",
   "id": "acting-beauty",
   "metadata": {},
   "source": [
    "<h1>Load modules </h1>"
   ]
  },
  {
   "cell_type": "code",
   "execution_count": 1,
   "id": "ancient-prefix",
   "metadata": {},
   "outputs": [],
   "source": [
    "#****************************************\n",
    "#    User must NOT edit code below \n",
    "#****************************************\n",
    "import OMPython\n",
    "from OMPython import OMCSessionZMQ\n",
    "\n",
    "import os\n",
    "from os.path import expanduser\n",
    "\n",
    "import pandas as pd\n",
    "import matplotlib as mpl\n",
    "import matplotlib.pyplot as plt\n",
    "import sys\n",
    "import pathlib\n",
    "\n",
    "from IPython.display import display, HTML\n"
   ]
  },
  {
   "cell_type": "markdown",
   "id": "progressive-paris",
   "metadata": {},
   "source": [
    "<h1>Use settings</h1>\n",
    "<p>Edit the strings below </p>"
   ]
  },
  {
   "cell_type": "code",
   "execution_count": 2,
   "id": "advanced-encyclopedia",
   "metadata": {},
   "outputs": [],
   "source": [
    "dirWorkRelToHome='/OMPythonWork'\n",
    "\n",
    "#dirModelRelToLibDir='/Examples/ThermodynamicCycles'\n",
    "fullpathModel='PropulsionSystem.Examples.ThermodynamicCycles.OttoCycleIdeal00_ex01'\n",
    "nmModel='OttoCycleIdeal00_ex01'\n",
    "stopTime=70.0\n",
    "outputFormat='csv'"
   ]
  },
  {
   "cell_type": "markdown",
   "id": "continental-nepal",
   "metadata": {},
   "source": [
    "<h1>Setup </h1>"
   ]
  },
  {
   "cell_type": "code",
   "execution_count": 3,
   "id": "alleged-penetration",
   "metadata": {},
   "outputs": [
    {
     "name": "stdout",
     "output_type": "stream",
     "text": [
      "########## check user settings and related info. ##########\n",
      "-. This OS is: Windows (nt)\n",
      "-. Home directory of current environment is: C:\\Users\\grabacr\n",
      "-. Temporary Working directory is: C:\\Users\\grabacr/OMPythonWork\n",
      "\n",
      "-. Directory of This notebook: C:\\Users\\grabacr\\Dropbox\\01-sharedspace\\modelica-shared\\CustomLib\\PropulsionSystem\\Jupyter\n",
      "-. Directory of library is: C:\\Users\\grabacr\\Dropbox\\01-sharedspace\\modelica-shared\\CustomLib\\PropulsionSystem\n",
      "-. Full path of Model to be ran is: PropulsionSystem.Examples.ThermodynamicCycles.OttoCycleIdeal00_ex01\n"
     ]
    }
   ],
   "source": [
    "#****************************************\n",
    "#    User must NOT edit code below \n",
    "#****************************************\n",
    "#*** get directory of this notebook\n",
    "sys.path.append('..')\n",
    "pathNotebook= os.getcwd()\n",
    "\n",
    "#*** distinguish OS\n",
    "if(os.name=='nt'):\n",
    "    dirHome=expanduser(\"~\")\n",
    "    typeOS='Windows (nt)'\n",
    "elif(os.name=='posix'):\n",
    "    dirHome=os.environ['HOME']\n",
    "    typeOS= 'Linux or Mac (posix)'\n",
    "##### end if #####\n",
    "\n",
    "#*** direcotory of temporary work\n",
    "dirWork= dirHome + dirWorkRelToHome\n",
    "\n",
    "#*** get library directory\n",
    "sys.path.append('..')\n",
    "dirLib= pathlib.Path('../')\n",
    "dirLib= dirLib.resolve()\n",
    "\n",
    "#*** get direcotry of model to run\n",
    "#dirModel= str(dirLib) + dirModelRelToLibDir\n",
    "\n",
    "#fullpathModelFile= dirModel + '/' + nmModel + \".mo\"\n",
    "\n",
    "print(\"########## check user settings and related info. ##########\")\n",
    "print('-. This OS is: ' + typeOS)\n",
    "print('-. Home directory of current environment is: ' + dirHome)\n",
    "print(\"-. Temporary Working directory is: \"+str(dirWork))\n",
    "print('')\n",
    "print('-. Directory of This notebook: '+ pathNotebook)\n",
    "print('-. Directory of library is: ' + str(dirLib))\n",
    "#print(\"-. Directory of model to be run: \" + dirModel)\n",
    "print(\"-. Full path of Model to be ran is: \" + fullpathModel)"
   ]
  },
  {
   "cell_type": "code",
   "execution_count": 4,
   "id": "cathedral-thanks",
   "metadata": {},
   "outputs": [
    {
     "name": "stderr",
     "output_type": "stream",
     "text": [
      "2021-01-23 17:18:31,682 - OMPython - INFO - OMC Server is up and running at file:///C:/Users/grabacr/AppData/Local/Temp/openmodelica.port.f907a1675758479ea393cecc375f3163 pid=1160\n"
     ]
    },
    {
     "name": "stdout",
     "output_type": "stream",
     "text": [
      "send: loadFile(\"C:\\Users\\grabacr\\Dropbox\\01-sharedspace\\modelica-shared\\CustomLib\\PropulsionSystem/package.mo\")\n",
      "send: cd(\"C:\\Users\\grabacr/OMPythonWork\")\n"
     ]
    },
    {
     "data": {
      "text/plain": [
       "'C:/Users/grabacr/OMPythonWork'"
      ]
     },
     "execution_count": 4,
     "metadata": {},
     "output_type": "execute_result"
    }
   ],
   "source": [
    "#****************************************\n",
    "#    User must NOT edit code below \n",
    "#****************************************\n",
    "omc= OMCSessionZMQ()\n",
    "\n",
    "# load Modelica Standard Library\n",
    "#strcmd=\"loadModel(Modelica,{3.2.2})\"\n",
    "#omc.sendExpression(strcmd)\n",
    "omc.sendExpression(\"loadModel(Modelica)\")\n",
    "\n",
    "strcmd='loadFile(\"' + str(dirLib) +'/package.mo' + '\")'\n",
    "print('send: '+strcmd)\n",
    "omc.sendExpression(strcmd)\n",
    "\n",
    "# move OMShell to working directory\n",
    "strcmd= 'cd(\"' + dirWork + '\")'\n",
    "print('send: '+strcmd)\n",
    "omc.sendExpression(strcmd)\n",
    "\n",
    "# load model\n",
    "#strcmd= 'loadFile(getInstallationDirectoryPath()+ ' + '\"'+ fullpathModel + '\")'\n",
    "#strcmd= 'loadFile(' + '\"'+ fullpathModel + '\")'\n",
    "#print('send: '+strcmd)\n",
    "#omc.sendExpression(strcmd)\n"
   ]
  },
  {
   "cell_type": "markdown",
   "id": "improving-implementation",
   "metadata": {},
   "source": [
    "<h1>Run simulation</h1>"
   ]
  },
  {
   "cell_type": "code",
   "execution_count": 5,
   "id": "apparent-slide",
   "metadata": {},
   "outputs": [
    {
     "name": "stdout",
     "output_type": "stream",
     "text": [
      "send: simulate(PropulsionSystem.Examples.ThermodynamicCycles.OttoCycleIdeal00_ex01, stopTime=70.0, outputFormat=\"csv\")\n",
      "...running simulation, wait...\n"
     ]
    },
    {
     "data": {
      "text/plain": [
       "{'resultFile': 'C:/Users/grabacr/OMPythonWork/PropulsionSystem.Examples.ThermodynamicCycles.OttoCycleIdeal00_ex01_res.csv',\n",
       " 'simulationOptions': \"startTime = 0.0, stopTime = 70.0, numberOfIntervals = 498, tolerance = 1e-006, method = 'dassl', fileNamePrefix = 'PropulsionSystem.Examples.ThermodynamicCycles.OttoCycleIdeal00_ex01', options = '', outputFormat = 'csv', variableFilter = '.*', cflags = '', simflags = '-lv=\\\\'LOG_STATS\\\\' -s=\\\\'dassl\\\\''\",\n",
       " 'messages': 'stdout            | warning | While solving non-linear system an assertion failed during initialization.\\n|                 | |       | | The non-linear solver tries to solve the problem that could take some time.\\n|                 | |       | | It could help to provide better start-values for the iteration variables.\\n|                 | |       | | For more information simulate with -lv LOG_NLS_V\\nstdout            | warning | While solving non-linear system an assertion failed during initialization.\\n|                 | |       | | The non-linear solver tries to solve the problem that could take some time.\\n|                 | |       | | It could help to provide better start-values for the iteration variables.\\n|                 | |       | | For more information simulate with -lv LOG_NLS_V\\nLOG_SUCCESS       | info    | The initialization finished successfully without homotopy method.\\nLOG_STATS         | info    | ### STATISTICS ###\\n|                 | |       | | timer\\n|                 | |       | | |    0.0048421s          reading init.xml\\n|                 | |       | | |    0.0004632s          reading info.xml\\n|                 | |       | | |    0.0011046s [  1.6%] pre-initialization\\n|                 | |       | | |    0.0015365s [  2.3%] initialization\\n|                 | |       | | |     6.3e-006s [  0.0%] steps\\n|                 | |       | | |    0.0351426s [ 52.0%] creating output-file\\n|                 | |       | | |    0.0031208s [  4.6%] event-handling\\n|                 | |       | | |    0.0025744s [  3.8%] overhead\\n|                 | |       | | |    0.0241431s [ 35.7%] simulation\\n|                 | |       | | |    0.0676283s [100.0%] total\\n|                 | |       | | events\\n|                 | |       | | |     7 state events\\n|                 | |       | | |     0 time events\\n|                 | |       | | solver: euler\\n|                 | |       | | |  2435 steps taken\\n|                 | |       | | |  2435 calls of functionODE\\n|                 | |       | | |     0 evaluations of jacobian\\n|                 | |       | | |     0 error test failures\\n|                 | |       | | |     0 convergence test failures\\n|                 | |       | | | 0s time of jacobian evaluation\\nLOG_SUCCESS       | info    | The simulation finished successfully.\\n',\n",
       " 'timeFrontend': 4.2768581,\n",
       " 'timeBackend': 0.1277136,\n",
       " 'timeSimCode': 0.0253962,\n",
       " 'timeTemplates': 0.0679548,\n",
       " 'timeCompile': 8.795782,\n",
       " 'timeSimulation': 0.5894106,\n",
       " 'timeTotal': 13.8864454}"
      ]
     },
     "execution_count": 5,
     "metadata": {},
     "output_type": "execute_result"
    }
   ],
   "source": [
    "#****************************************\n",
    "#    User must NOT edit code below \n",
    "#****************************************\n",
    "strcmd='simulate(' + fullpathModel + ', stopTime=' + str(stopTime) + ', outputFormat=\"' + outputFormat + '\")'\n",
    "print('send: '+strcmd)\n",
    "\n",
    "print(\"...running simulation, wait...\")\n",
    "omc.sendExpression(strcmd)"
   ]
  },
  {
   "cell_type": "markdown",
   "id": "general-whale",
   "metadata": {},
   "source": [
    "<h1>Post Process</h1>"
   ]
  },
  {
   "cell_type": "code",
   "execution_count": 6,
   "id": "mysterious-motion",
   "metadata": {},
   "outputs": [
    {
     "data": {
      "text/plain": [
       "'C:\\\\Users\\\\grabacr\\\\OMPythonWork'"
      ]
     },
     "execution_count": 6,
     "metadata": {},
     "output_type": "execute_result"
    }
   ],
   "source": [
    "os.chdir(dirWork)\n",
    "os.getcwd()"
   ]
  },
  {
   "cell_type": "code",
   "execution_count": 7,
   "id": "divided-stewart",
   "metadata": {},
   "outputs": [
    {
     "data": {
      "text/html": [
       "<div>\n",
       "<style scoped>\n",
       "    .dataframe tbody tr th:only-of-type {\n",
       "        vertical-align: middle;\n",
       "    }\n",
       "\n",
       "    .dataframe tbody tr th {\n",
       "        vertical-align: top;\n",
       "    }\n",
       "\n",
       "    .dataframe thead th {\n",
       "        text-align: right;\n",
       "    }\n",
       "</style>\n",
       "<table border=\"1\" class=\"dataframe\">\n",
       "  <thead>\n",
       "    <tr style=\"text-align: right;\">\n",
       "      <th></th>\n",
       "      <th>time</th>\n",
       "      <th>OttoCycle.ER</th>\n",
       "      <th>OttoCycle.W_1_2</th>\n",
       "      <th>OttoCycle.W_3_4</th>\n",
       "      <th>OttoCycle.arr_T[2]</th>\n",
       "      <th>OttoCycle.arr_T[3]</th>\n",
       "      <th>OttoCycle.arr_T[4]</th>\n",
       "      <th>OttoCycle.arr_T[5]</th>\n",
       "      <th>OttoCycle.arr_V[3]</th>\n",
       "      <th>OttoCycle.arr_V[5]</th>\n",
       "      <th>...</th>\n",
       "      <th>OttoCycle.y_T_fluidState_3</th>\n",
       "      <th>OttoCycle.y_T_fluidState_4</th>\n",
       "      <th>OttoCycle.y_h_fluidState_4</th>\n",
       "      <th>OttoCycle.y_p_fluidState_2</th>\n",
       "      <th>OttoCycle.y_p_fluidState_3</th>\n",
       "      <th>OttoCycle.y_p_fluidState_4</th>\n",
       "      <th>OttoCycle.y_u_fluidState_4</th>\n",
       "      <th>ramp_fracFuel.y</th>\n",
       "      <th>ramp_h_fluidState_1.y</th>\n",
       "      <th>ramp_p_fluidState_1.y</th>\n",
       "    </tr>\n",
       "  </thead>\n",
       "  <tbody>\n",
       "    <tr>\n",
       "      <th>0</th>\n",
       "      <td>0.000000</td>\n",
       "      <td>12</td>\n",
       "      <td>46.405118</td>\n",
       "      <td>-354.339539</td>\n",
       "      <td>746.353618</td>\n",
       "      <td>5112.654321</td>\n",
       "      <td>2557.377270</td>\n",
       "      <td>286.950113</td>\n",
       "      <td>0.000009</td>\n",
       "      <td>0.000109</td>\n",
       "      <td>...</td>\n",
       "      <td>5112.654321</td>\n",
       "      <td>2557.377270</td>\n",
       "      <td>2.979638e+06</td>\n",
       "      <td>3.162541e+06</td>\n",
       "      <td>2.166396e+07</td>\n",
       "      <td>903035.894574</td>\n",
       "      <td>2.242532e+06</td>\n",
       "      <td>0.100</td>\n",
       "      <td>289302.6</td>\n",
       "      <td>101325.0</td>\n",
       "    </tr>\n",
       "    <tr>\n",
       "      <th>1</th>\n",
       "      <td>0.140562</td>\n",
       "      <td>12</td>\n",
       "      <td>46.405118</td>\n",
       "      <td>-354.339539</td>\n",
       "      <td>746.353618</td>\n",
       "      <td>5112.654321</td>\n",
       "      <td>2557.377270</td>\n",
       "      <td>286.950113</td>\n",
       "      <td>0.000009</td>\n",
       "      <td>0.000109</td>\n",
       "      <td>...</td>\n",
       "      <td>5112.654321</td>\n",
       "      <td>2557.377270</td>\n",
       "      <td>2.979638e+06</td>\n",
       "      <td>3.162541e+06</td>\n",
       "      <td>2.166396e+07</td>\n",
       "      <td>903035.894574</td>\n",
       "      <td>2.242532e+06</td>\n",
       "      <td>0.100</td>\n",
       "      <td>289302.6</td>\n",
       "      <td>101325.0</td>\n",
       "    </tr>\n",
       "    <tr>\n",
       "      <th>2</th>\n",
       "      <td>0.281124</td>\n",
       "      <td>12</td>\n",
       "      <td>46.405118</td>\n",
       "      <td>-354.339539</td>\n",
       "      <td>746.353618</td>\n",
       "      <td>5112.654321</td>\n",
       "      <td>2557.377270</td>\n",
       "      <td>286.950113</td>\n",
       "      <td>0.000009</td>\n",
       "      <td>0.000109</td>\n",
       "      <td>...</td>\n",
       "      <td>5112.654321</td>\n",
       "      <td>2557.377270</td>\n",
       "      <td>2.979638e+06</td>\n",
       "      <td>3.162541e+06</td>\n",
       "      <td>2.166396e+07</td>\n",
       "      <td>903035.894574</td>\n",
       "      <td>2.242532e+06</td>\n",
       "      <td>0.100</td>\n",
       "      <td>289302.6</td>\n",
       "      <td>101325.0</td>\n",
       "    </tr>\n",
       "    <tr>\n",
       "      <th>3</th>\n",
       "      <td>0.421687</td>\n",
       "      <td>12</td>\n",
       "      <td>46.405118</td>\n",
       "      <td>-354.339539</td>\n",
       "      <td>746.353618</td>\n",
       "      <td>5112.654321</td>\n",
       "      <td>2557.377270</td>\n",
       "      <td>286.950113</td>\n",
       "      <td>0.000009</td>\n",
       "      <td>0.000109</td>\n",
       "      <td>...</td>\n",
       "      <td>5112.654321</td>\n",
       "      <td>2557.377270</td>\n",
       "      <td>2.979638e+06</td>\n",
       "      <td>3.162541e+06</td>\n",
       "      <td>2.166396e+07</td>\n",
       "      <td>903035.894574</td>\n",
       "      <td>2.242532e+06</td>\n",
       "      <td>0.100</td>\n",
       "      <td>289302.6</td>\n",
       "      <td>101325.0</td>\n",
       "    </tr>\n",
       "    <tr>\n",
       "      <th>4</th>\n",
       "      <td>0.562249</td>\n",
       "      <td>12</td>\n",
       "      <td>46.405118</td>\n",
       "      <td>-354.339539</td>\n",
       "      <td>746.353618</td>\n",
       "      <td>5112.654321</td>\n",
       "      <td>2557.377270</td>\n",
       "      <td>286.950113</td>\n",
       "      <td>0.000009</td>\n",
       "      <td>0.000109</td>\n",
       "      <td>...</td>\n",
       "      <td>5112.654321</td>\n",
       "      <td>2557.377270</td>\n",
       "      <td>2.979638e+06</td>\n",
       "      <td>3.162541e+06</td>\n",
       "      <td>2.166396e+07</td>\n",
       "      <td>903035.894574</td>\n",
       "      <td>2.242532e+06</td>\n",
       "      <td>0.100</td>\n",
       "      <td>289302.6</td>\n",
       "      <td>101325.0</td>\n",
       "    </tr>\n",
       "    <tr>\n",
       "      <th>...</th>\n",
       "      <td>...</td>\n",
       "      <td>...</td>\n",
       "      <td>...</td>\n",
       "      <td>...</td>\n",
       "      <td>...</td>\n",
       "      <td>...</td>\n",
       "      <td>...</td>\n",
       "      <td>...</td>\n",
       "      <td>...</td>\n",
       "      <td>...</td>\n",
       "      <td>...</td>\n",
       "      <td>...</td>\n",
       "      <td>...</td>\n",
       "      <td>...</td>\n",
       "      <td>...</td>\n",
       "      <td>...</td>\n",
       "      <td>...</td>\n",
       "      <td>...</td>\n",
       "      <td>...</td>\n",
       "      <td>...</td>\n",
       "      <td>...</td>\n",
       "    </tr>\n",
       "    <tr>\n",
       "      <th>509</th>\n",
       "      <td>69.578313</td>\n",
       "      <td>12</td>\n",
       "      <td>91.440218</td>\n",
       "      <td>-97.401343</td>\n",
       "      <td>859.379732</td>\n",
       "      <td>911.202391</td>\n",
       "      <td>360.040933</td>\n",
       "      <td>336.543208</td>\n",
       "      <td>0.000009</td>\n",
       "      <td>0.000109</td>\n",
       "      <td>...</td>\n",
       "      <td>911.202391</td>\n",
       "      <td>360.040933</td>\n",
       "      <td>3.633473e+05</td>\n",
       "      <td>6.169120e+06</td>\n",
       "      <td>6.541133e+06</td>\n",
       "      <td>215381.677466</td>\n",
       "      <td>2.595737e+05</td>\n",
       "      <td>0.001</td>\n",
       "      <td>339502.6</td>\n",
       "      <td>201325.0</td>\n",
       "    </tr>\n",
       "    <tr>\n",
       "      <th>510</th>\n",
       "      <td>69.718876</td>\n",
       "      <td>12</td>\n",
       "      <td>91.440218</td>\n",
       "      <td>-97.401343</td>\n",
       "      <td>859.379732</td>\n",
       "      <td>911.202391</td>\n",
       "      <td>360.040933</td>\n",
       "      <td>336.543208</td>\n",
       "      <td>0.000009</td>\n",
       "      <td>0.000109</td>\n",
       "      <td>...</td>\n",
       "      <td>911.202391</td>\n",
       "      <td>360.040933</td>\n",
       "      <td>3.633473e+05</td>\n",
       "      <td>6.169120e+06</td>\n",
       "      <td>6.541133e+06</td>\n",
       "      <td>215381.677466</td>\n",
       "      <td>2.595737e+05</td>\n",
       "      <td>0.001</td>\n",
       "      <td>339502.6</td>\n",
       "      <td>201325.0</td>\n",
       "    </tr>\n",
       "    <tr>\n",
       "      <th>511</th>\n",
       "      <td>69.859438</td>\n",
       "      <td>12</td>\n",
       "      <td>91.440218</td>\n",
       "      <td>-97.401343</td>\n",
       "      <td>859.379732</td>\n",
       "      <td>911.202391</td>\n",
       "      <td>360.040933</td>\n",
       "      <td>336.543208</td>\n",
       "      <td>0.000009</td>\n",
       "      <td>0.000109</td>\n",
       "      <td>...</td>\n",
       "      <td>911.202391</td>\n",
       "      <td>360.040933</td>\n",
       "      <td>3.633473e+05</td>\n",
       "      <td>6.169120e+06</td>\n",
       "      <td>6.541133e+06</td>\n",
       "      <td>215381.677466</td>\n",
       "      <td>2.595737e+05</td>\n",
       "      <td>0.001</td>\n",
       "      <td>339502.6</td>\n",
       "      <td>201325.0</td>\n",
       "    </tr>\n",
       "    <tr>\n",
       "      <th>512</th>\n",
       "      <td>70.000000</td>\n",
       "      <td>12</td>\n",
       "      <td>91.440218</td>\n",
       "      <td>-97.401343</td>\n",
       "      <td>859.379732</td>\n",
       "      <td>911.202391</td>\n",
       "      <td>360.040933</td>\n",
       "      <td>336.543208</td>\n",
       "      <td>0.000009</td>\n",
       "      <td>0.000109</td>\n",
       "      <td>...</td>\n",
       "      <td>911.202391</td>\n",
       "      <td>360.040933</td>\n",
       "      <td>3.633473e+05</td>\n",
       "      <td>6.169120e+06</td>\n",
       "      <td>6.541133e+06</td>\n",
       "      <td>215381.677466</td>\n",
       "      <td>2.595737e+05</td>\n",
       "      <td>0.001</td>\n",
       "      <td>339502.6</td>\n",
       "      <td>201325.0</td>\n",
       "    </tr>\n",
       "    <tr>\n",
       "      <th>513</th>\n",
       "      <td>70.000000</td>\n",
       "      <td>12</td>\n",
       "      <td>91.440218</td>\n",
       "      <td>-97.401343</td>\n",
       "      <td>859.379732</td>\n",
       "      <td>911.202391</td>\n",
       "      <td>360.040933</td>\n",
       "      <td>336.543208</td>\n",
       "      <td>0.000009</td>\n",
       "      <td>0.000109</td>\n",
       "      <td>...</td>\n",
       "      <td>911.202391</td>\n",
       "      <td>360.040933</td>\n",
       "      <td>3.633473e+05</td>\n",
       "      <td>6.169120e+06</td>\n",
       "      <td>6.541133e+06</td>\n",
       "      <td>215381.677466</td>\n",
       "      <td>2.595737e+05</td>\n",
       "      <td>0.001</td>\n",
       "      <td>339502.6</td>\n",
       "      <td>201325.0</td>\n",
       "    </tr>\n",
       "  </tbody>\n",
       "</table>\n",
       "<p>514 rows × 123 columns</p>\n",
       "</div>"
      ],
      "text/plain": [
       "          time  OttoCycle.ER  OttoCycle.W_1_2  OttoCycle.W_3_4  \\\n",
       "0     0.000000            12        46.405118      -354.339539   \n",
       "1     0.140562            12        46.405118      -354.339539   \n",
       "2     0.281124            12        46.405118      -354.339539   \n",
       "3     0.421687            12        46.405118      -354.339539   \n",
       "4     0.562249            12        46.405118      -354.339539   \n",
       "..         ...           ...              ...              ...   \n",
       "509  69.578313            12        91.440218       -97.401343   \n",
       "510  69.718876            12        91.440218       -97.401343   \n",
       "511  69.859438            12        91.440218       -97.401343   \n",
       "512  70.000000            12        91.440218       -97.401343   \n",
       "513  70.000000            12        91.440218       -97.401343   \n",
       "\n",
       "     OttoCycle.arr_T[2]  OttoCycle.arr_T[3]  OttoCycle.arr_T[4]  \\\n",
       "0            746.353618         5112.654321         2557.377270   \n",
       "1            746.353618         5112.654321         2557.377270   \n",
       "2            746.353618         5112.654321         2557.377270   \n",
       "3            746.353618         5112.654321         2557.377270   \n",
       "4            746.353618         5112.654321         2557.377270   \n",
       "..                  ...                 ...                 ...   \n",
       "509          859.379732          911.202391          360.040933   \n",
       "510          859.379732          911.202391          360.040933   \n",
       "511          859.379732          911.202391          360.040933   \n",
       "512          859.379732          911.202391          360.040933   \n",
       "513          859.379732          911.202391          360.040933   \n",
       "\n",
       "     OttoCycle.arr_T[5]  OttoCycle.arr_V[3]  OttoCycle.arr_V[5]  ...  \\\n",
       "0            286.950113            0.000009            0.000109  ...   \n",
       "1            286.950113            0.000009            0.000109  ...   \n",
       "2            286.950113            0.000009            0.000109  ...   \n",
       "3            286.950113            0.000009            0.000109  ...   \n",
       "4            286.950113            0.000009            0.000109  ...   \n",
       "..                  ...                 ...                 ...  ...   \n",
       "509          336.543208            0.000009            0.000109  ...   \n",
       "510          336.543208            0.000009            0.000109  ...   \n",
       "511          336.543208            0.000009            0.000109  ...   \n",
       "512          336.543208            0.000009            0.000109  ...   \n",
       "513          336.543208            0.000009            0.000109  ...   \n",
       "\n",
       "     OttoCycle.y_T_fluidState_3  OttoCycle.y_T_fluidState_4  \\\n",
       "0                   5112.654321                 2557.377270   \n",
       "1                   5112.654321                 2557.377270   \n",
       "2                   5112.654321                 2557.377270   \n",
       "3                   5112.654321                 2557.377270   \n",
       "4                   5112.654321                 2557.377270   \n",
       "..                          ...                         ...   \n",
       "509                  911.202391                  360.040933   \n",
       "510                  911.202391                  360.040933   \n",
       "511                  911.202391                  360.040933   \n",
       "512                  911.202391                  360.040933   \n",
       "513                  911.202391                  360.040933   \n",
       "\n",
       "     OttoCycle.y_h_fluidState_4  OttoCycle.y_p_fluidState_2  \\\n",
       "0                  2.979638e+06                3.162541e+06   \n",
       "1                  2.979638e+06                3.162541e+06   \n",
       "2                  2.979638e+06                3.162541e+06   \n",
       "3                  2.979638e+06                3.162541e+06   \n",
       "4                  2.979638e+06                3.162541e+06   \n",
       "..                          ...                         ...   \n",
       "509                3.633473e+05                6.169120e+06   \n",
       "510                3.633473e+05                6.169120e+06   \n",
       "511                3.633473e+05                6.169120e+06   \n",
       "512                3.633473e+05                6.169120e+06   \n",
       "513                3.633473e+05                6.169120e+06   \n",
       "\n",
       "     OttoCycle.y_p_fluidState_3  OttoCycle.y_p_fluidState_4  \\\n",
       "0                  2.166396e+07               903035.894574   \n",
       "1                  2.166396e+07               903035.894574   \n",
       "2                  2.166396e+07               903035.894574   \n",
       "3                  2.166396e+07               903035.894574   \n",
       "4                  2.166396e+07               903035.894574   \n",
       "..                          ...                         ...   \n",
       "509                6.541133e+06               215381.677466   \n",
       "510                6.541133e+06               215381.677466   \n",
       "511                6.541133e+06               215381.677466   \n",
       "512                6.541133e+06               215381.677466   \n",
       "513                6.541133e+06               215381.677466   \n",
       "\n",
       "     OttoCycle.y_u_fluidState_4  ramp_fracFuel.y  ramp_h_fluidState_1.y  \\\n",
       "0                  2.242532e+06            0.100               289302.6   \n",
       "1                  2.242532e+06            0.100               289302.6   \n",
       "2                  2.242532e+06            0.100               289302.6   \n",
       "3                  2.242532e+06            0.100               289302.6   \n",
       "4                  2.242532e+06            0.100               289302.6   \n",
       "..                          ...              ...                    ...   \n",
       "509                2.595737e+05            0.001               339502.6   \n",
       "510                2.595737e+05            0.001               339502.6   \n",
       "511                2.595737e+05            0.001               339502.6   \n",
       "512                2.595737e+05            0.001               339502.6   \n",
       "513                2.595737e+05            0.001               339502.6   \n",
       "\n",
       "     ramp_p_fluidState_1.y  \n",
       "0                 101325.0  \n",
       "1                 101325.0  \n",
       "2                 101325.0  \n",
       "3                 101325.0  \n",
       "4                 101325.0  \n",
       "..                     ...  \n",
       "509               201325.0  \n",
       "510               201325.0  \n",
       "511               201325.0  \n",
       "512               201325.0  \n",
       "513               201325.0  \n",
       "\n",
       "[514 rows x 123 columns]"
      ]
     },
     "execution_count": 7,
     "metadata": {},
     "output_type": "execute_result"
    }
   ],
   "source": [
    "df=[]\n",
    "i_df= -1\n",
    "\n",
    "os.chdir(dirWork)\n",
    "\n",
    "nmcsv= fullpathModel + '_res.csv'\n",
    "df.append(pd.read_csv(nmcsv))\n",
    "i_df= i_df+1\n",
    "\n",
    "df[i_df]"
   ]
  },
  {
   "cell_type": "code",
   "execution_count": 8,
   "id": "alleged-comment",
   "metadata": {},
   "outputs": [],
   "source": [
    "fig=[]\n",
    "i_fig=-1"
   ]
  },
  {
   "cell_type": "code",
   "execution_count": 17,
   "id": "public-processor",
   "metadata": {},
   "outputs": [
    {
     "data": {
      "image/png": "[encoded data removed]",
      "text/plain": [
       "<Figure size 1080x576 with 1 Axes>"
      ]
     },
     "metadata": {
      "needs_background": "light"
     },
     "output_type": "display_data"
    }
   ],
   "source": [
    "varName=\"ramp_p_fluidState_1.y\"\n",
    "ylabel='Pressrue [Pa]'\n",
    "\n",
    "time= df[i_df].loc[:,'time']\n",
    "var= df[i_df].loc[:,varName]\n",
    "fig.append(plt.figure(figsize=(15,8)))\n",
    "plt.xlabel('time [s]')\n",
    "plt.ylabel(ylabel)\n",
    "plt.plot(time, var, color='red')\n",
    "plt.title(varName)\n",
    "plt.grid()"
   ]
  },
  {
   "cell_type": "code",
   "execution_count": 18,
   "id": "opposite-prisoner",
   "metadata": {},
   "outputs": [
    {
     "data": {
      "image/png": "[encoded data removed]",
      "text/plain": [
       "<Figure size 1080x576 with 1 Axes>"
      ]
     },
     "metadata": {
      "needs_background": "light"
     },
     "output_type": "display_data"
    }
   ],
   "source": [
    "varName=\"ramp_T_fluidState_1.y\"\n",
    "ylabel='Temperature [K]'\n",
    "\n",
    "time= df[i_df].loc[:,'time']\n",
    "var= df[i_df].loc[:,varName]\n",
    "fig.append(plt.figure(figsize=(15,8)))\n",
    "plt.xlabel('time [s]')\n",
    "plt.ylabel(ylabel)\n",
    "plt.plot(time, var, color='red')\n",
    "plt.title(varName)\n",
    "plt.grid()"
   ]
  },
  {
   "cell_type": "code",
   "execution_count": 19,
   "id": "electric-tours",
   "metadata": {},
   "outputs": [
    {
     "data": {
      "image/png": "[encoded data removed]",
      "text/plain": [
       "<Figure size 1080x576 with 1 Axes>"
      ]
     },
     "metadata": {
      "needs_background": "light"
     },
     "output_type": "display_data"
    }
   ],
   "source": [
    "varName=\"ramp_fracFuel.y\"\n",
    "ylabel='fraction [nond]'\n",
    "\n",
    "time= df[i_df].loc[:,'time']\n",
    "var= df[i_df].loc[:,varName]\n",
    "fig.append(plt.figure(figsize=(15,8)))\n",
    "plt.xlabel('time [s]')\n",
    "plt.ylabel(ylabel)\n",
    "plt.plot(time, var, color='red')\n",
    "plt.title(varName)\n",
    "plt.grid()"
   ]
  },
  {
   "cell_type": "code",
   "execution_count": 14,
   "id": "involved-synthetic",
   "metadata": {},
   "outputs": [
    {
     "data": {
      "image/png": "[encoded data removed]",
      "text/plain": [
       "<Figure size 1080x576 with 1 Axes>"
      ]
     },
     "metadata": {
      "needs_background": "light"
     },
     "output_type": "display_data"
    }
   ],
   "source": [
    "varName=\"OttoCycle.WoutCycle\"\n",
    "ylabel='Work [J]'\n",
    "\n",
    "time= df[i_df].loc[:,'time']\n",
    "var= df[i_df].loc[:,varName]\n",
    "fig.append(plt.figure(figsize=(15,8)))\n",
    "plt.xlabel('time [s]')\n",
    "plt.ylabel(ylabel)\n",
    "plt.plot(time, var, color='red')\n",
    "plt.title(varName)\n",
    "plt.grid()"
   ]
  },
  {
   "cell_type": "code",
   "execution_count": 10,
   "id": "specific-circuit",
   "metadata": {},
   "outputs": [
    {
     "name": "stdout",
     "output_type": "stream",
     "text": [
      "row extracted = 401\n",
      "time of extracted = 54.95983935742972\n",
      "arr_h= [339502.6, 894054.4979616895, 3766997.915449021, 1678234.471221976, 339502.6]\n",
      "arr_s= [6812.98856331041, 6812.98856331041, 8036.869244998716, 8036.869244998716, 6812.98856331041]\n",
      "arr_p= [201325.0, 6169120.170564538, 22706374.77549233, 912149.2679767016, 201325.0]\n",
      "arr_v= [0.4818124978999072, 0.0401510414916589, 0.0401510414916589, 0.4818124978999072, 0.4818124978999072]\n"
     ]
    }
   ],
   "source": [
    "tgtTime=55\n",
    "widthTime=1\n",
    "\n",
    "#******************************\n",
    "rowTgt=0\n",
    "for i in range(len(df[i_df])):\n",
    "    if((tgtTime-widthTime <= df[i_df].at[i,'time']) and (df[i_df].at[i,'time'] <= tgtTime) ):\n",
    "        rowTgt=i\n",
    "        timeExtrd=df[i_df].at[i,'time']\n",
    "    ##### end if #####\n",
    "##### end for #####\n",
    "\n",
    "print(\"row extracted = \"+str(rowTgt))\n",
    "print(\"time of extracted = \"+str(timeExtrd))\n",
    "\n",
    "arr_h=[]\n",
    "arr_s=[]\n",
    "arr_p=[]\n",
    "arr_v=[]\n",
    "for i in range(1,5+1):\n",
    "    val= df[i_df].at[rowTgt, ('OttoCycle.arr_h['+str(i)+']')]\n",
    "    arr_h.append(val)\n",
    "    val= df[i_df].at[rowTgt, ('OttoCycle.arr_s['+str(i)+']')]\n",
    "    arr_s.append(val)\n",
    "    val= df[i_df].at[rowTgt, ('OttoCycle.arr_p['+str(i)+']')]\n",
    "    arr_p.append(val)\n",
    "    val= df[i_df].at[rowTgt, ('OttoCycle.arr_v['+str(i)+']')]\n",
    "    arr_v.append(val)\n",
    "#####\n",
    "\n",
    "print('arr_h= '+str(arr_h))\n",
    "print('arr_s= '+str(arr_s))\n",
    "print('arr_p= '+str(arr_p))\n",
    "print('arr_v= '+str(arr_v))\n"
   ]
  },
  {
   "cell_type": "code",
   "execution_count": 11,
   "id": "younger-catering",
   "metadata": {},
   "outputs": [
    {
     "data": {
      "text/plain": [
       "''"
      ]
     },
     "execution_count": 11,
     "metadata": {},
     "output_type": "execute_result"
    },
    {
     "data": {
      "image/png": "[encoded data removed]",
      "text/plain": [
       "<Figure size 720x720 with 1 Axes>"
      ]
     },
     "metadata": {
      "needs_background": "light"
     },
     "output_type": "display_data"
    }
   ],
   "source": [
    "fig.append(plt.figure(figsize=(10,10)))\n",
    "plt.scatter(x=arr_s, y=arr_h, color='red')\n",
    "plt.grid()\n",
    "plt.title('h vs. s' + '; at time:' + str(tgtTime) + '[s]')\n",
    "plt.xlabel('spec. entropy [J/(kg*K)]')\n",
    "plt.ylabel('spec. enthalpy [J/kg]')\n",
    "''''''"
   ]
  },
  {
   "cell_type": "code",
   "execution_count": 12,
   "id": "protective-uncle",
   "metadata": {},
   "outputs": [
    {
     "data": {
      "text/plain": [
       "''"
      ]
     },
     "execution_count": 12,
     "metadata": {},
     "output_type": "execute_result"
    },
    {
     "data": {
      "image/png": "[encoded data removed]",
      "text/plain": [
       "<Figure size 720x720 with 1 Axes>"
      ]
     },
     "metadata": {
      "needs_background": "light"
     },
     "output_type": "display_data"
    }
   ],
   "source": [
    "fig.append(plt.figure(figsize=(10,10)))\n",
    "plt.scatter(x=arr_v, y=arr_p, color='red')\n",
    "plt.grid()\n",
    "plt.title('p vs. v'+ '; at time:' + str(tgtTime) + '[s]')\n",
    "plt.xlabel('pressure [Pa]')\n",
    "plt.ylabel('spec. volume [m3/kg]')\n",
    "''''''"
   ]
  },
  {
   "cell_type": "markdown",
   "id": "threatened-cleaner",
   "metadata": {},
   "source": [
    "<h1>Process at the end of note</h1>"
   ]
  },
  {
   "cell_type": "code",
   "execution_count": 13,
   "id": "speaking-shadow",
   "metadata": {},
   "outputs": [
    {
     "name": "stdout",
     "output_type": "stream",
     "text": [
      "currend dir: C:\\Users\\grabacr\\Dropbox\\01-sharedspace\\modelica-shared\\CustomLib\\PropulsionSystem\\Jupyter\n"
     ]
    }
   ],
   "source": [
    "os.chdir(pathNotebook)\n",
    "print(\"currend dir: \"+os.getcwd())"
   ]
  },
  {
   "cell_type": "code",
   "execution_count": null,
   "id": "knowing-surveillance",
   "metadata": {},
   "outputs": [],
   "source": []
  }
 ],
 "metadata": {
  "kernelspec": {
   "display_name": "Python 3",
   "language": "python",
   "name": "python3"
  },
  "language_info": {
   "codemirror_mode": {
    "name": "ipython",
    "version": 3
   },
   "file_extension": ".py",
   "mimetype": "text/x-python",
   "name": "python",
   "nbconvert_exporter": "python",
   "pygments_lexer": "ipython3",
   "version": "3.9.1"
  }
 },
 "nbformat": 4,
 "nbformat_minor": 5
}
