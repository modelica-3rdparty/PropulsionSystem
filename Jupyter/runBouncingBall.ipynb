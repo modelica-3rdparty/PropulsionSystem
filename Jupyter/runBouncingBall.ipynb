{
 "cells": [
  {
   "cell_type": "markdown",
   "id": "least-duncan",
   "metadata": {},
   "source": [
    "<h1>run BouncingBall.mo</h1>"
   ]
  },
  {
   "cell_type": "markdown",
   "id": "settled-february",
   "metadata": {},
   "source": [
    "<h1>Load modules </h1>"
   ]
  },
  {
   "cell_type": "code",
   "execution_count": 3,
   "id": "covered-sarah",
   "metadata": {},
   "outputs": [
    {
     "name": "stdout",
     "output_type": "stream",
     "text": [
      "-----\n"
     ]
    }
   ],
   "source": [
    "#****************************************\n",
    "#    User must NOT edit code below \n",
    "#****************************************\n",
    "import OMPython\n",
    "from OMPython import OMCSessionZMQ\n",
    "\n",
    "import os\n",
    "import pandas as pd\n",
    "import matplotlib as mpl\n",
    "import matplotlib.pyplot as plt\n",
    "print('-----')\n"
   ]
  },
  {
   "cell_type": "markdown",
   "id": "handy-terrorist",
   "metadata": {},
   "source": [
    "<h1>Use settings</h1>\n",
    "<p>Edit the strings below </p>"
   ]
  },
  {
   "cell_type": "code",
   "execution_count": 8,
   "id": "hollywood-implement",
   "metadata": {},
   "outputs": [
    {
     "name": "stdout",
     "output_type": "stream",
     "text": [
      "########## check user settings ##########\n",
      "Temporary Working directory is: /home/ubuntu\n",
      "Model to be ran is: /share/doc/omc/testmodels/BouncingBall.mo\n"
     ]
    }
   ],
   "source": [
    "dirWork='/home/ubuntu'\n",
    "\n",
    "dirModelRelToInstDir='/share/doc/omc/testmodels'\n",
    "nmModel='BouncingBall.mo'\n",
    "stopTime=3.0\n",
    "outputFormat='csv'\n",
    "\n",
    "#****************************************\n",
    "#    User must NOT edit code below \n",
    "#****************************************\n",
    "print(\"########## check user settings ##########\")\n",
    "print(\"Temporary Working directory is: \"+str(dirWork))\n",
    "fullpathModel= dirModelRelToInstDir + '/' + nmModel\n",
    "print(\"Model to be ran is: \" + fullpathModel)"
   ]
  },
  {
   "cell_type": "markdown",
   "id": "underlying-catering",
   "metadata": {},
   "source": [
    "<h1>Setup </h1>"
   ]
  },
  {
   "cell_type": "code",
   "execution_count": 9,
   "id": "coated-forty",
   "metadata": {},
   "outputs": [
    {
     "data": {
      "text/plain": [
       "True"
      ]
     },
     "execution_count": 9,
     "metadata": {},
     "output_type": "execute_result"
    }
   ],
   "source": [
    "#****************************************\n",
    "#    User must NOT edit code below \n",
    "#****************************************\n",
    "omc= OMCSessionZMQ()\n",
    "\n",
    "# load Modelica Standard Library\n",
    "omc.sendExpression(\"loadModel(Modelica)\")\n",
    "\n",
    "# move OMShell to working directory\n",
    "strcmd= 'cd(\"' + dirWork + '\")'\n",
    "omc.sendExpression(strcmd)\n",
    "\n",
    "# load model\n",
    "strcmd= 'loadFile(getInstallationDirectoryPath()+ ' + '\"'+ fullpathModel + '\")'\n",
    "omc.sendExpression(strcmd)\n"
   ]
  },
  {
   "cell_type": "markdown",
   "id": "enclosed-villa",
   "metadata": {},
   "source": [
    "<h1>Run simulation</h1>"
   ]
  },
  {
   "cell_type": "code",
   "execution_count": 10,
   "id": "institutional-equity",
   "metadata": {},
   "outputs": [
    {
     "name": "stdout",
     "output_type": "stream",
     "text": [
      "...running simulation, wait...\n"
     ]
    },
    {
     "data": {
      "text/plain": [
       "{'resultFile': '/home/ubuntu/BouncingBall_res.csv',\n",
       " 'simulationOptions': \"startTime = 0.0, stopTime = 3.0, numberOfIntervals = 500, tolerance = 1e-06, method = 'dassl', fileNamePrefix = 'BouncingBall', options = '', outputFormat = 'csv', variableFilter = '.*', cflags = '', simflags = ''\",\n",
       " 'messages': 'LOG_SUCCESS       | info    | The initialization finished successfully without homotopy method.\\nLOG_SUCCESS       | info    | The simulation finished successfully.\\n',\n",
       " 'timeFrontend': 0.236825865,\n",
       " 'timeBackend': 0.003866024,\n",
       " 'timeSimCode': 0.001215413,\n",
       " 'timeTemplates': 0.006276685000000001,\n",
       " 'timeCompile': 0.835762114,\n",
       " 'timeSimulation': 0.019590159,\n",
       " 'timeTotal': 1.103680904}"
      ]
     },
     "execution_count": 10,
     "metadata": {},
     "output_type": "execute_result"
    }
   ],
   "source": [
    "#****************************************\n",
    "#    User must NOT edit code below \n",
    "#****************************************\n",
    "print(\"...running simulation, wait...\")\n",
    "omc.sendExpression(\"simulate(BouncingBall, stopTime=3.0, outputFormat=\\\"csv\\\")\")"
   ]
  },
  {
   "cell_type": "markdown",
   "id": "knowing-nutrition",
   "metadata": {},
   "source": [
    "<h1>Post Process</h1>"
   ]
  },
  {
   "cell_type": "code",
   "execution_count": 11,
   "id": "running-lease",
   "metadata": {},
   "outputs": [
    {
     "data": {
      "text/plain": [
       "'/home/ubuntu'"
      ]
     },
     "execution_count": 11,
     "metadata": {},
     "output_type": "execute_result"
    }
   ],
   "source": [
    "os.chdir(dirWork)\n",
    "os.getcwd()"
   ]
  },
  {
   "cell_type": "code",
   "execution_count": 12,
   "id": "behind-duplicate",
   "metadata": {},
   "outputs": [
    {
     "data": {
      "text/html": [
       "<div>\n",
       "<style scoped>\n",
       "    .dataframe tbody tr th:only-of-type {\n",
       "        vertical-align: middle;\n",
       "    }\n",
       "\n",
       "    .dataframe tbody tr th {\n",
       "        vertical-align: top;\n",
       "    }\n",
       "\n",
       "    .dataframe thead th {\n",
       "        text-align: right;\n",
       "    }\n",
       "</style>\n",
       "<table border=\"1\" class=\"dataframe\">\n",
       "  <thead>\n",
       "    <tr style=\"text-align: right;\">\n",
       "      <th></th>\n",
       "      <th>time</th>\n",
       "      <th>h</th>\n",
       "      <th>v</th>\n",
       "      <th>der(h)</th>\n",
       "      <th>der(v)</th>\n",
       "      <th>v_new</th>\n",
       "      <th>foo</th>\n",
       "      <th>flying</th>\n",
       "      <th>impact</th>\n",
       "    </tr>\n",
       "  </thead>\n",
       "  <tbody>\n",
       "    <tr>\n",
       "      <th>0</th>\n",
       "      <td>0.000</td>\n",
       "      <td>1.000000e+00</td>\n",
       "      <td>0.00000</td>\n",
       "      <td>0.00000</td>\n",
       "      <td>-9.81</td>\n",
       "      <td>0.0</td>\n",
       "      <td>2</td>\n",
       "      <td>1</td>\n",
       "      <td>0</td>\n",
       "    </tr>\n",
       "    <tr>\n",
       "      <th>1</th>\n",
       "      <td>0.006</td>\n",
       "      <td>9.998234e-01</td>\n",
       "      <td>-0.05886</td>\n",
       "      <td>-0.05886</td>\n",
       "      <td>-9.81</td>\n",
       "      <td>0.0</td>\n",
       "      <td>2</td>\n",
       "      <td>1</td>\n",
       "      <td>0</td>\n",
       "    </tr>\n",
       "    <tr>\n",
       "      <th>2</th>\n",
       "      <td>0.012</td>\n",
       "      <td>9.992937e-01</td>\n",
       "      <td>-0.11772</td>\n",
       "      <td>-0.11772</td>\n",
       "      <td>-9.81</td>\n",
       "      <td>0.0</td>\n",
       "      <td>2</td>\n",
       "      <td>1</td>\n",
       "      <td>0</td>\n",
       "    </tr>\n",
       "    <tr>\n",
       "      <th>3</th>\n",
       "      <td>0.018</td>\n",
       "      <td>9.984108e-01</td>\n",
       "      <td>-0.17658</td>\n",
       "      <td>-0.17658</td>\n",
       "      <td>-9.81</td>\n",
       "      <td>0.0</td>\n",
       "      <td>2</td>\n",
       "      <td>1</td>\n",
       "      <td>0</td>\n",
       "    </tr>\n",
       "    <tr>\n",
       "      <th>4</th>\n",
       "      <td>0.024</td>\n",
       "      <td>9.971747e-01</td>\n",
       "      <td>-0.23544</td>\n",
       "      <td>-0.23544</td>\n",
       "      <td>-9.81</td>\n",
       "      <td>0.0</td>\n",
       "      <td>2</td>\n",
       "      <td>1</td>\n",
       "      <td>0</td>\n",
       "    </tr>\n",
       "    <tr>\n",
       "      <th>...</th>\n",
       "      <td>...</td>\n",
       "      <td>...</td>\n",
       "      <td>...</td>\n",
       "      <td>...</td>\n",
       "      <td>...</td>\n",
       "      <td>...</td>\n",
       "      <td>...</td>\n",
       "      <td>...</td>\n",
       "      <td>...</td>\n",
       "    </tr>\n",
       "    <tr>\n",
       "      <th>687</th>\n",
       "      <td>2.982</td>\n",
       "      <td>2.101988e-11</td>\n",
       "      <td>0.00000</td>\n",
       "      <td>0.00000</td>\n",
       "      <td>0.00</td>\n",
       "      <td>0.0</td>\n",
       "      <td>1</td>\n",
       "      <td>0</td>\n",
       "      <td>1</td>\n",
       "    </tr>\n",
       "    <tr>\n",
       "      <th>688</th>\n",
       "      <td>2.988</td>\n",
       "      <td>2.101988e-11</td>\n",
       "      <td>0.00000</td>\n",
       "      <td>0.00000</td>\n",
       "      <td>0.00</td>\n",
       "      <td>0.0</td>\n",
       "      <td>1</td>\n",
       "      <td>0</td>\n",
       "      <td>1</td>\n",
       "    </tr>\n",
       "    <tr>\n",
       "      <th>689</th>\n",
       "      <td>2.994</td>\n",
       "      <td>2.101988e-11</td>\n",
       "      <td>0.00000</td>\n",
       "      <td>0.00000</td>\n",
       "      <td>0.00</td>\n",
       "      <td>0.0</td>\n",
       "      <td>1</td>\n",
       "      <td>0</td>\n",
       "      <td>1</td>\n",
       "    </tr>\n",
       "    <tr>\n",
       "      <th>690</th>\n",
       "      <td>3.000</td>\n",
       "      <td>2.101988e-11</td>\n",
       "      <td>0.00000</td>\n",
       "      <td>0.00000</td>\n",
       "      <td>0.00</td>\n",
       "      <td>0.0</td>\n",
       "      <td>1</td>\n",
       "      <td>0</td>\n",
       "      <td>1</td>\n",
       "    </tr>\n",
       "    <tr>\n",
       "      <th>691</th>\n",
       "      <td>3.000</td>\n",
       "      <td>2.101988e-11</td>\n",
       "      <td>0.00000</td>\n",
       "      <td>0.00000</td>\n",
       "      <td>0.00</td>\n",
       "      <td>0.0</td>\n",
       "      <td>1</td>\n",
       "      <td>0</td>\n",
       "      <td>1</td>\n",
       "    </tr>\n",
       "  </tbody>\n",
       "</table>\n",
       "<p>692 rows × 9 columns</p>\n",
       "</div>"
      ],
      "text/plain": [
       "      time             h        v   der(h)  der(v)  v_new  foo  flying  impact\n",
       "0    0.000  1.000000e+00  0.00000  0.00000   -9.81    0.0    2       1       0\n",
       "1    0.006  9.998234e-01 -0.05886 -0.05886   -9.81    0.0    2       1       0\n",
       "2    0.012  9.992937e-01 -0.11772 -0.11772   -9.81    0.0    2       1       0\n",
       "3    0.018  9.984108e-01 -0.17658 -0.17658   -9.81    0.0    2       1       0\n",
       "4    0.024  9.971747e-01 -0.23544 -0.23544   -9.81    0.0    2       1       0\n",
       "..     ...           ...      ...      ...     ...    ...  ...     ...     ...\n",
       "687  2.982  2.101988e-11  0.00000  0.00000    0.00    0.0    1       0       1\n",
       "688  2.988  2.101988e-11  0.00000  0.00000    0.00    0.0    1       0       1\n",
       "689  2.994  2.101988e-11  0.00000  0.00000    0.00    0.0    1       0       1\n",
       "690  3.000  2.101988e-11  0.00000  0.00000    0.00    0.0    1       0       1\n",
       "691  3.000  2.101988e-11  0.00000  0.00000    0.00    0.0    1       0       1\n",
       "\n",
       "[692 rows x 9 columns]"
      ]
     },
     "execution_count": 12,
     "metadata": {},
     "output_type": "execute_result"
    }
   ],
   "source": [
    "df= pd.read_csv('BouncingBall_res.csv')\n",
    "df"
   ]
  },
  {
   "cell_type": "code",
   "execution_count": 13,
   "id": "outside-horizon",
   "metadata": {},
   "outputs": [
    {
     "data": {
      "text/plain": [
       "<AxesSubplot:xlabel='time'>"
      ]
     },
     "execution_count": 13,
     "metadata": {},
     "output_type": "execute_result"
    },
    {
     "data": {
      "image/png": "[encoded data removed]",
      "text/plain": [
       "<Figure size 432x288 with 1 Axes>"
      ]
     },
     "metadata": {
      "needs_background": "light"
     },
     "output_type": "display_data"
    }
   ],
   "source": [
    "df.plot(x=\"time\", y=\"h\")\n"
   ]
  },
  {
   "cell_type": "code",
   "execution_count": null,
   "id": "russian-badge",
   "metadata": {},
   "outputs": [],
   "source": []
  }
 ],
 "metadata": {
  "kernelspec": {
   "display_name": "Python 3",
   "language": "python",
   "name": "python3"
  },
  "language_info": {
   "codemirror_mode": {
    "name": "ipython",
    "version": 3
   },
   "file_extension": ".py",
   "mimetype": "text/x-python",
   "name": "python",
   "nbconvert_exporter": "python",
   "pygments_lexer": "ipython3",
   "version": "3.8.5"
  }
 },
 "nbformat": 4,
 "nbformat_minor": 5
}
